{
  "nbformat": 4,
  "nbformat_minor": 0,
  "metadata": {
    "colab": {
      "name": "June_test.ipynb",
      "provenance": [],
      "collapsed_sections": []
    },
    "kernelspec": {
      "name": "python3",
      "display_name": "Python 3"
    },
    "language_info": {
      "name": "python"
    }
  },
  "cells": [
    {
      "cell_type": "markdown",
      "metadata": {
        "id": "QVdSXwGSKJ7y"
      },
      "source": [
        "#**Notes on Theia 456 project**"
      ]
    },
    {
      "cell_type": "markdown",
      "metadata": {
        "id": "nY61aq5xKMsj"
      },
      "source": [
        "**plotting parameters**"
      ]
    },
    {
      "cell_type": "code",
      "metadata": {
        "id": "T8L5GWV2zxcq"
      },
      "source": [
        "aw = 1.5\n",
        "ax_size = 20 \n",
        "color_background = 'lightgray'"
      ],
      "execution_count": 1,
      "outputs": []
    },
    {
      "cell_type": "markdown",
      "metadata": {
        "id": "CHYqmnjqajTj"
      },
      "source": [
        "**Mount Google Drive and set up directories**"
      ]
    },
    {
      "cell_type": "code",
      "metadata": {
        "colab": {
          "base_uri": "https://localhost:8080/"
        },
        "id": "wlBaRIp9an7v",
        "outputId": "0568af4d-b41d-4c4a-85a9-6b6ecdd795fc"
      },
      "source": [
        "# Directories\n",
        "project_name = 'Theia_456'\n",
        "dir_drive = \"/content/gdrive/My Drive/\"\n",
        "dir_project = dir_drive+'Projects/'+project_name+'/'\n",
        "dir_plots = dir_project+'Plots/'\n",
        "\n",
        "# Mount Drive\n",
        "# You have to give permission to the notebook to access files stored in your Google Drive. \n",
        "from google.colab import drive\n",
        "drive.mount('/content/gdrive',force_remount=True)"
      ],
      "execution_count": 2,
      "outputs": [
        {
          "output_type": "stream",
          "text": [
            "Mounted at /content/gdrive\n"
          ],
          "name": "stdout"
        }
      ]
    },
    {
      "cell_type": "markdown",
      "metadata": {
        "id": "6GhmJAPdaEdK"
      },
      "source": [
        "**Import python modules available to Colab or pip-installable**"
      ]
    },
    {
      "cell_type": "code",
      "metadata": {
        "id": "DdPhIfFcaGvs"
      },
      "source": [
        "import matplotlib.pyplot as plt\n",
        "import matplotlib.gridspec as gridspec # for multi-panel figures\n",
        "\n",
        "from glob import glob\n",
        "import pandas as pd\n",
        "import numpy as np\n",
        "import astropy.units as units\n",
        "from astropy.io import fits # Reads tables\n",
        "from astropy.io import ascii\n",
        "from astropy.table import Table, vstack, join\n",
        "from astropy.coordinates import SkyCoord\n"
      ],
      "execution_count": 3,
      "outputs": []
    },
    {
      "cell_type": "code",
      "metadata": {
        "colab": {
          "base_uri": "https://localhost:8080/"
        },
        "id": "X7lnzG0s2J7H",
        "outputId": "d404a36b-7006-4e9f-9e13-f48e5095393b"
      },
      "source": [
        "# astroquery\n",
        "!pip install astroquery\n",
        "from astroquery.vizier import Vizier\n",
        "from astroquery.xmatch import XMatch"
      ],
      "execution_count": 4,
      "outputs": [
        {
          "output_type": "stream",
          "text": [
            "Collecting astroquery\n",
            "\u001b[?25l  Downloading https://files.pythonhosted.org/packages/3e/de/3591b576540914cfd2ae0c3e99e6da4c545852698feffb7af05552c9fb33/astroquery-0.4.2-py3-none-any.whl (3.9MB)\n",
            "\u001b[K     |████████████████████████████████| 3.9MB 29.0MB/s \n",
            "\u001b[?25hRequirement already satisfied: six in /usr/local/lib/python3.7/dist-packages (from astroquery) (1.15.0)\n",
            "Requirement already satisfied: beautifulsoup4>=4.3.2 in /usr/local/lib/python3.7/dist-packages (from astroquery) (4.6.3)\n",
            "Requirement already satisfied: astropy>=3.1.2 in /usr/local/lib/python3.7/dist-packages (from astroquery) (4.2.1)\n",
            "Requirement already satisfied: html5lib>=0.999 in /usr/local/lib/python3.7/dist-packages (from astroquery) (1.0.1)\n",
            "Requirement already satisfied: numpy>=1.15.0 in /usr/local/lib/python3.7/dist-packages (from astroquery) (1.19.5)\n",
            "Collecting pyvo>=1.1\n",
            "\u001b[?25l  Downloading https://files.pythonhosted.org/packages/cf/8d/cdef5613bb450495d6fbef2e0408062f2d11f078b045987718936498204b/pyvo-1.1-py3-none-any.whl (802kB)\n",
            "\u001b[K     |████████████████████████████████| 808kB 33.4MB/s \n",
            "\u001b[?25hCollecting keyring>=4.0\n",
            "  Downloading https://files.pythonhosted.org/packages/26/f9/41230ac47f738f1ba66676dc8d3b30ca5b1f9eb0230fc204bcd9836c4ae9/keyring-23.0.1-py3-none-any.whl\n",
            "Requirement already satisfied: requests>=2.4.3 in /usr/local/lib/python3.7/dist-packages (from astroquery) (2.23.0)\n",
            "Requirement already satisfied: pyerfa in /usr/local/lib/python3.7/dist-packages (from astropy>=3.1.2->astroquery) (2.0.0)\n",
            "Requirement already satisfied: webencodings in /usr/local/lib/python3.7/dist-packages (from html5lib>=0.999->astroquery) (0.5.1)\n",
            "Collecting mimeparse\n",
            "  Downloading https://files.pythonhosted.org/packages/38/0c/7b02c30765658744acc51876781c580234cb1110296b231a3a524722f9c7/mimeparse-0.1.3.tar.gz\n",
            "Collecting SecretStorage>=3.2; sys_platform == \"linux\"\n",
            "  Downloading https://files.pythonhosted.org/packages/d9/1e/29cd69fdac7391aa51510dfd42aa70b4e6a826c8cd019ee2a8ab9ec0777f/SecretStorage-3.3.1-py3-none-any.whl\n",
            "Requirement already satisfied: importlib-metadata>=3.6 in /usr/local/lib/python3.7/dist-packages (from keyring>=4.0->astroquery) (4.5.0)\n",
            "Collecting jeepney>=0.4.2; sys_platform == \"linux\"\n",
            "\u001b[?25l  Downloading https://files.pythonhosted.org/packages/51/b0/a6ea72741aaac3f37fb96d195e4ee576a103c4c04e279bc6b446a70960e1/jeepney-0.6.0-py3-none-any.whl (45kB)\n",
            "\u001b[K     |████████████████████████████████| 51kB 8.0MB/s \n",
            "\u001b[?25hRequirement already satisfied: chardet<4,>=3.0.2 in /usr/local/lib/python3.7/dist-packages (from requests>=2.4.3->astroquery) (3.0.4)\n",
            "Requirement already satisfied: certifi>=2017.4.17 in /usr/local/lib/python3.7/dist-packages (from requests>=2.4.3->astroquery) (2021.5.30)\n",
            "Requirement already satisfied: idna<3,>=2.5 in /usr/local/lib/python3.7/dist-packages (from requests>=2.4.3->astroquery) (2.10)\n",
            "Requirement already satisfied: urllib3!=1.25.0,!=1.25.1,<1.26,>=1.21.1 in /usr/local/lib/python3.7/dist-packages (from requests>=2.4.3->astroquery) (1.24.3)\n",
            "Collecting cryptography>=2.0\n",
            "\u001b[?25l  Downloading https://files.pythonhosted.org/packages/b2/26/7af637e6a7e87258b963f1731c5982fb31cd507f0d90d91836e446955d02/cryptography-3.4.7-cp36-abi3-manylinux2014_x86_64.whl (3.2MB)\n",
            "\u001b[K     |████████████████████████████████| 3.2MB 42.1MB/s \n",
            "\u001b[?25hRequirement already satisfied: zipp>=0.5 in /usr/local/lib/python3.7/dist-packages (from importlib-metadata>=3.6->keyring>=4.0->astroquery) (3.4.1)\n",
            "Requirement already satisfied: typing-extensions>=3.6.4; python_version < \"3.8\" in /usr/local/lib/python3.7/dist-packages (from importlib-metadata>=3.6->keyring>=4.0->astroquery) (3.7.4.3)\n",
            "Requirement already satisfied: cffi>=1.12 in /usr/local/lib/python3.7/dist-packages (from cryptography>=2.0->SecretStorage>=3.2; sys_platform == \"linux\"->keyring>=4.0->astroquery) (1.14.5)\n",
            "Requirement already satisfied: pycparser in /usr/local/lib/python3.7/dist-packages (from cffi>=1.12->cryptography>=2.0->SecretStorage>=3.2; sys_platform == \"linux\"->keyring>=4.0->astroquery) (2.20)\n",
            "Building wheels for collected packages: mimeparse\n",
            "  Building wheel for mimeparse (setup.py) ... \u001b[?25l\u001b[?25hdone\n",
            "  Created wheel for mimeparse: filename=mimeparse-0.1.3-cp37-none-any.whl size=3864 sha256=8b0b83586fd8d4494682cabe4caf96e100d412bedee8d5797a202a7c4143fba1\n",
            "  Stored in directory: /root/.cache/pip/wheels/54/ca/c7/3db47cc5c748286db22a7fab43ccf985903d2b9ca119de16ab\n",
            "Successfully built mimeparse\n",
            "Installing collected packages: mimeparse, pyvo, jeepney, cryptography, SecretStorage, keyring, astroquery\n",
            "Successfully installed SecretStorage-3.3.1 astroquery-0.4.2 cryptography-3.4.7 jeepney-0.6.0 keyring-23.0.1 mimeparse-0.1.3 pyvo-1.1\n",
            "Could not import regions, which is required for some of the functionalities of this module.\n"
          ],
          "name": "stdout"
        }
      ]
    },
    {
      "cell_type": "markdown",
      "metadata": {
        "id": "9aV80v2NKRhZ"
      },
      "source": [
        "**Exctinction Coefficients**\n",
        "\n",
        "from the Gaia Collaboration (2018)'s Hertzsprung$-$Russell Diagram paper: https://ui.adsabs.harvard.edu/abs/2018A%26A...616A..10G/abstract\n",
        "\n",
        "The coefficients depend on spectral type and the amount of extinction. "
      ]
    },
    {
      "cell_type": "code",
      "metadata": {
        "colab": {
          "base_uri": "https://localhost:8080/"
        },
        "id": "lKP24vOX3OYj",
        "outputId": "7188e2e7-c1d9-480c-9a67-e3596e622487"
      },
      "source": [
        "def AG_Law(colors, Av):\n",
        "  # 0.9761 −0.1704 0.0086 0.0011 −0.0438 0.0013 0.0099\n",
        "\n",
        "  coeff = np.array([0.9761, -0.1704, 0.0086, 0.0011, -0.0438, 0.0013, 0.0099])\n",
        "  return coeff[0] + coeff[1]*colors + coeff[2]*colors**2 + coeff[3]*colors**3 + coeff[4]*Av + coeff[5]*Av**2 + coeff[6]*Av*colors\n",
        "\n",
        "def EBR_Law(colors, Av):\n",
        "  coeff_BP = np.array([1.1517, -0.0871, -0.0333, 0.0173, -0.0230, 0.0006, 0.0043])\n",
        "  #  1.1517 −0.0871 −0.0333 0.0173 −0.0230 0.0006 0.0043\n",
        "\n",
        "  coeff_RP = np.array([0.6104, -0.0170, -0.0026, -0.0017, -0.0078, 0.00005, 0.0006])\n",
        "  # 0.6104 −0.0170 −0.0026 −0.0017 −0.0078 0.00005 0.0006\n",
        "  ABP = coeff_BP[0] + coeff_BP[1]*colors + coeff_BP[2]*colors**2 + coeff_BP[3]*colors**3 + coeff_BP[4]*Av + coeff_BP[5]*Av**2 + coeff_BP[6]*Av*colors\n",
        "  ARP = coeff_RP[0] + coeff_RP[1]*colors + coeff_RP[2]*colors**2 + coeff_RP[3]*colors**3 + coeff_RP[4]*Av + coeff_RP[5]*Av**2 + coeff_RP[6]*Av*colors\n",
        "  return ABP-ARP\n",
        "\n",
        "\n",
        "AG_Law(0.82, 0.1), EBR_Law(0.82,0.1)"
      ],
      "execution_count": 5,
      "outputs": [
        {
          "output_type": "execute_result",
          "data": {
            "text/plain": [
              "(0.8392059448, 0.47244021199999964)"
            ]
          },
          "metadata": {
            "tags": []
          },
          "execution_count": 5
        }
      ]
    },
    {
      "cell_type": "markdown",
      "metadata": {
        "id": "MhZYJV0VyEBe"
      },
      "source": [
        "**Load Theia Catalog**"
      ]
    },
    {
      "cell_type": "code",
      "metadata": {
        "colab": {
          "base_uri": "https://localhost:8080/"
        },
        "id": "6MLcp4x6I1Nu",
        "outputId": "c5ebe46f-4ca3-43f3-8d08-7f47a653fe0f"
      },
      "source": [
        "# Load Theia catalog\n",
        "f = glob(dir_drive+'Tables/Theia_Table.fits')\n",
        "hdul = fits.open(f[0])\n",
        "theia_data = hdul[1].data\n",
        "theia_data.columns"
      ],
      "execution_count": 6,
      "outputs": [
        {
          "output_type": "execute_result",
          "data": {
            "text/plain": [
              "ColDefs(\n",
              "    name = 'SOURCE_ID'; format = 'K'; null = -9223372036854775808\n",
              "    name = 'PROB'; format = 'E'\n",
              "    name = 'RA'; format = 'D'\n",
              "    name = 'DEC'; format = 'D'\n",
              "    name = 'PARALLAX'; format = 'E'\n",
              "    name = 'VLSRRA'; format = 'E'\n",
              "    name = 'VLSRDEC'; format = 'E'\n",
              "    name = 'L'; format = 'D'\n",
              "    name = 'L1'; format = 'D'\n",
              "    name = 'B'; format = 'D'\n",
              "    name = 'VLSRL'; format = 'E'\n",
              "    name = 'VLSRB'; format = 'E'\n",
              "    name = 'SLABEL'; format = 'J'; null = -2147483648\n",
              "    name = 'VLSRV'; format = 'D'\n",
              "    name = 'NAME'; format = '17A'\n",
              "    name = 'PLOTNAME'; format = '23A'\n",
              "    name = 'ID'; format = 'J'; null = -2147483648\n",
              "    name = 'G'; format = 'D'\n",
              "    name = 'EG'; format = 'D'\n",
              "    name = 'BP'; format = 'D'\n",
              "    name = 'EBP'; format = 'D'\n",
              "    name = 'RP'; format = 'D'\n",
              "    name = 'ERP'; format = 'D'\n",
              "    name = 'J'; format = 'E'\n",
              "    name = 'EJ'; format = 'E'\n",
              "    name = 'H'; format = 'E'\n",
              "    name = 'EH'; format = 'E'\n",
              "    name = 'K'; format = 'E'\n",
              "    name = 'EK'; format = 'E'\n",
              "    name = 'RADIAL_VELOCITY'; format = 'D'\n",
              "    name = 'RADIAL_VELOCITY_ERROR'; format = 'D'\n",
              "    name = 'STRING'; format = 'A'\n",
              "    name = 'PARALLAX_ERROR'; format = 'D'\n",
              "    name = 'AGE'; format = 'D'\n",
              "    name = 'EAGE'; format = 'D'\n",
              "    name = 'AV'; format = 'D'\n",
              "    name = 'EAV'; format = 'D'\n",
              "    name = 'DIST'; format = 'D'\n",
              "    name = 'EDIST'; format = 'D'\n",
              "    name = '2mass'; format = '17A'\n",
              "    name = 'bp_rp'; format = 'D'\n",
              "    name = 'absg'; format = 'D'\n",
              "    name = 'NBRIGHT'; format = 'I'; null = -32768\n",
              "    name = 'pmra'; format = 'D'\n",
              "    name = 'pmra_error'; format = 'D'\n",
              "    name = 'pmdec'; format = 'D'\n",
              "    name = 'pmdec_error'; format = 'D'\n",
              "    name = 'LABELS'; format = 'J'; null = -2147483648\n",
              "    name = 'AGE_small'; format = 'D'\n",
              "    name = 'EAGE_small'; format = 'D'\n",
              "    name = 'AV_small'; format = 'D'\n",
              "    name = 'EAV_small'; format = 'D'\n",
              "    name = 'DIST_small'; format = 'D'\n",
              "    name = 'EDIST_small'; format = 'D'\n",
              "    name = 'AV_PREDICTED'; format = 'D'\n",
              "    name = 'train_set'; format = 'L'\n",
              "    name = 'dev_set'; format = 'L'\n",
              "    name = 'test_set'; format = 'L'\n",
              "    name = 'c_bp_rp'; format = 'D'\n",
              "    name = 'c_absg'; format = 'D'\n",
              "    name = 'pms'; format = 'L'\n",
              ")"
            ]
          },
          "metadata": {
            "tags": []
          },
          "execution_count": 6
        }
      ]
    },
    {
      "cell_type": "markdown",
      "metadata": {
        "id": "331R_ALRKh6g"
      },
      "source": [
        "**Identify Theia 456 stars and extract parameters**"
      ]
    },
    {
      "cell_type": "code",
      "metadata": {
        "colab": {
          "base_uri": "https://localhost:8080/"
        },
        "id": "cDWM3kta1gig",
        "outputId": "f864cc15-d0e2-4268-c41d-baac08ec9ca0"
      },
      "source": [
        "i456 = np.where(theia_data['ID'] == 456)[0]\n",
        "print(\"There are \"+str(len(i456))+\" stars associated with Theia 456\")\n",
        "\n",
        "Theia456_RA = np.array(theia_data['DEC'][i456],dtype=float)\n",
        "Theia456_Dec = np.array(theia_data['DEC'][i456],dtype=float)                         \n",
        "Theia456_bprp = np.array(theia_data['BP'][i456] - theia_data['RP'][i456],dtype=float)\n",
        "Theia456_Gmag = np.array(theia_data['G'][i456],dtype=float)\n",
        "Theia456_dm = np.array(5*np.log10(100/theia_data['PARALLAX'][i456]),dtype=float)\n",
        "Theia456_MG = Theia456_Gmag - Theia456_dm"
      ],
      "execution_count": 7,
      "outputs": [
        {
          "output_type": "stream",
          "text": [
            "There are 478 stars associated with Theia 456\n"
          ],
          "name": "stdout"
        }
      ]
    },
    {
      "cell_type": "markdown",
      "metadata": {
        "id": "jxYWeeFS1oO_"
      },
      "source": [
        "**Cross-match with LAMOST DR5 official FGK catalog**\n",
        "\n",
        "We are going to use a 2 arsecond search radius. For stars with multiple spectra, we will select the data from the spectrum with the lowest quoted Teff error."
      ]
    },
    {
      "cell_type": "code",
      "metadata": {
        "colab": {
          "base_uri": "https://localhost:8080/"
        },
        "id": "_1LDoziD1qmS",
        "outputId": "535ae8fb-8662-4bd5-957c-ca7a0f231ca2"
      },
      "source": [
        "f = glob(dir_drive+'Tables/dr5*')\n",
        "lamost_catalog = fits.open(f[0])\n",
        "lamost_catalog.info()\n",
        "lamost_data = lamost_catalog[1].data\n",
        "lam_ra = lamost_data['ra']\n",
        "lam_dec = lamost_data['dec']\n",
        "lamost_data.columns"
      ],
      "execution_count": 8,
      "outputs": [
        {
          "output_type": "stream",
          "text": [
            "Filename: /content/gdrive/My Drive/Tables/dr5_v3_stellar.fits.gz\n",
            "No.    Name      Ver    Type      Cards   Dimensions   Format\n",
            "  0  PRIMARY       1 PrimaryHDU      17   ()      \n",
            "  1                1 BinTableHDU    157   5348712R x 44C   [J, 19A, 10A, J, J, 40A, B, B, D, D, E, E, E, E, E, 16A, 20A, 20A, E, E, 25A, E, E, E, E, E, E, E, 16A, 10A, 60A, 60A, B, E, D, D, E, E, E, E, E, E, E, E]   \n"
          ],
          "name": "stdout"
        },
        {
          "output_type": "stream",
          "text": [
            "WARNING: VerifyWarning: Invalid keyword for column 4: Column disp option (TDISPn) failed verification: Format J is not recognized. The invalid value will be ignored for the purpose of formatting the data in this column. [astropy.io.fits.column]\n",
            "WARNING: VerifyWarning: Invalid keyword for column 5: Column disp option (TDISPn) failed verification: Format J is not recognized. The invalid value will be ignored for the purpose of formatting the data in this column. [astropy.io.fits.column]\n"
          ],
          "name": "stderr"
        },
        {
          "output_type": "execute_result",
          "data": {
            "text/plain": [
              "ColDefs(\n",
              "    name = 'obsid'; format = 'J'; disp = 'I8'\n",
              "    name = 'designation'; format = '19A'; disp = 'A19'\n",
              "    name = 'obsdate'; format = '10A'; disp = 'A10'\n",
              "    name = 'lmjd'; format = 'J'\n",
              "    name = 'mjd'; format = 'J'\n",
              "    name = 'planid'; format = '40A'; disp = 'A40'\n",
              "    name = 'spid'; format = 'B'; disp = 'I2'\n",
              "    name = 'fiberid'; format = 'B'; disp = 'I3'\n",
              "    name = 'ra_obs'; format = 'D'; unit = 'deg'; disp = 'F16.10'\n",
              "    name = 'dec_obs'; format = 'D'; unit = 'deg'; disp = 'F16.10'\n",
              "    name = 'snru'; format = 'E'; disp = 'F6.2'\n",
              "    name = 'snrg'; format = 'E'; disp = 'F6.2'\n",
              "    name = 'snrr'; format = 'E'; disp = 'F6.2'\n",
              "    name = 'snri'; format = 'E'; disp = 'F6.2'\n",
              "    name = 'snrz'; format = 'E'; disp = 'F6.2'\n",
              "    name = 'objtype'; format = '16A'; disp = 'A16'\n",
              "    name = 'class'; format = '20A'; disp = 'A20'\n",
              "    name = 'subclass'; format = '20A'; disp = 'A20'\n",
              "    name = 'z'; format = 'E'; disp = 'F21.10'\n",
              "    name = 'z_err'; format = 'E'; disp = 'F21.10'\n",
              "    name = 'magtype'; format = '25A'; disp = 'A25'\n",
              "    name = 'mag1'; format = 'E'; unit = 'mag'; disp = 'F6.2'\n",
              "    name = 'mag2'; format = 'E'; unit = 'mag'; disp = 'F6.2'\n",
              "    name = 'mag3'; format = 'E'; unit = 'mag'; disp = 'F6.2'\n",
              "    name = 'mag4'; format = 'E'; unit = 'mag'; disp = 'F6.2'\n",
              "    name = 'mag5'; format = 'E'; unit = 'mag'; disp = 'F6.2'\n",
              "    name = 'mag6'; format = 'E'; unit = 'mag'; disp = 'F6.2'\n",
              "    name = 'mag7'; format = 'E'; unit = 'mag'; disp = 'F6.2'\n",
              "    name = 'tsource'; format = '16A'; disp = 'A16'\n",
              "    name = 'fibertype'; format = '10A'; disp = 'A10'\n",
              "    name = 'tfrom'; format = '60A'; disp = 'A60'\n",
              "    name = 'tcomment'; format = '60A'; disp = 'A60'\n",
              "    name = 'offsets'; format = 'B'; disp = 'I1'\n",
              "    name = 'offset_v'; format = 'E'; disp = 'F6.3'\n",
              "    name = 'ra'; format = 'D'; unit = 'deg'; disp = 'F16.10'\n",
              "    name = 'dec'; format = 'D'; unit = 'deg'; disp = 'F16.10'\n",
              "    name = 'teff'; format = 'E'; unit = 'K'; disp = 'F10.2'\n",
              "    name = 'teff_err'; format = 'E'; unit = 'K'; disp = 'F8.2'\n",
              "    name = 'logg'; format = 'E'; unit = 'dex'; disp = 'F10.3'\n",
              "    name = 'logg_err'; format = 'E'; unit = 'dex'; disp = 'F8.3'\n",
              "    name = 'feh'; format = 'E'; disp = 'F10.3'\n",
              "    name = 'feh_err'; format = 'E'; disp = 'F8.3'\n",
              "    name = 'rv'; format = 'E'; unit = 'km/s'; disp = 'F10.2'\n",
              "    name = 'rv_err'; format = 'E'; unit = 'km/s'; disp = 'F8.2'\n",
              ")"
            ]
          },
          "metadata": {
            "tags": []
          },
          "execution_count": 8
        }
      ]
    },
    {
      "cell_type": "code",
      "metadata": {
        "colab": {
          "base_uri": "https://localhost:8080/"
        },
        "id": "rylWCG8Z4i7h",
        "outputId": "78e1d815-83f7-46d2-d074-d7faa4abfef5"
      },
      "source": [
        "search_radius = 2\n",
        "n_stars = len(i456)\n",
        "id_xmatch = np.empty(n_stars, dtype=object)\n",
        "teff = np.zeros(n_stars, dtype=float) +np.nan\n",
        "e_teff = np.zeros(n_stars, dtype=float) +np.nan\n",
        "feh = np.zeros(n_stars, dtype=float) +np.nan\n",
        "e_feh = np.zeros(n_stars, dtype=float) +np.nan\n",
        "rv = np.zeros(n_stars, dtype=float) +np.nan\n",
        "e_rv = np.zeros(n_stars, dtype=float) +np.nan\n",
        "\n",
        "for i in range(n_stars):\n",
        "  rad = np.sqrt((theia_data['RA'][i456[i]] - lam_ra)**2+(theia_data['DEC'][i456[i]] - lam_dec)**2)\n",
        "  imatch = np.where(rad*3600 < search_radius)[0]\n",
        "  if len(imatch) == 1:\n",
        "    id_xmatch[i] = imatch[0]\n",
        "    teff[i] = lamost_data['teff'][imatch[0]]\n",
        "    e_teff[i] = lamost_data['teff_err'][imatch[0]]\n",
        "    feh[i] = lamost_data['feh'][imatch[0]]\n",
        "    e_feh[i] = lamost_data['feh_err'][imatch[0]]\n",
        "    rv[i] = lamost_data['rv'][imatch[0]]        \n",
        "    e_rv[i] = lamost_data['rv_err'][imatch[0]]\n",
        "  if len(imatch) > 1:\n",
        "    teff_errors = np.array(lamost_data['teff_err'][imatch])\n",
        "    iuse = np.argmin(teff_errors)\n",
        "    print(i, teff_errors)\n",
        "    imatch = imatch[iuse]\n",
        "    id_xmatch[i] = imatch\n",
        "    teff[i] = lamost_data['teff'][imatch]\n",
        "    e_teff[i] = lamost_data['teff_err'][imatch]\n",
        "    feh[i] = lamost_data['feh'][imatch]\n",
        "    e_feh[i] = lamost_data['feh_err'][imatch]\n",
        "    rv[i] = lamost_data['rv'][imatch]        \n",
        "    e_rv[i] = lamost_data['rv_err'][imatch]\n",
        "\n",
        "teff  "
      ],
      "execution_count": 9,
      "outputs": [
        {
          "output_type": "stream",
          "text": [
            "42 [243.97 360.67 105.32 118.14]\n",
            "44 [211.5   94.92]\n",
            "68 [228.43  18.87  63.42  25.47]\n",
            "70 [ 92.01  16.67  19.79 118.71]\n",
            "82 [247.36 176.22]\n",
            "85 [48.48 46.95]\n",
            "86 [ 59.09  49.37 115.01]\n",
            "91 [63.17 44.71]\n",
            "92 [204.64  41.63]\n",
            "93 [57.13 25.4  33.32]\n",
            "135 [232.21  95.3  115.83]\n",
            "153 [33.64 15.41]\n",
            "178 [161.35 100.52]\n",
            "183 [ 40.92 141.84]\n",
            "210 [78.88 35.97]\n",
            "257 [308.85  27.12]\n",
            "288 [57.1  33.83]\n",
            "302 [177.32  70.39]\n",
            "309 [207.24  38.04]\n",
            "317 [135.01 131.18]\n",
            "318 [29.94 53.23]\n",
            "333 [70.04 53.5 ]\n",
            "373 [117.57 144.19]\n",
            "412 [133.49  88.37  21.46]\n",
            "451 [34.11 25.08]\n",
            "454 [14.38 21.14]\n",
            "455 [16.17 13.11]\n"
          ],
          "name": "stdout"
        },
        {
          "output_type": "execute_result",
          "data": {
            "text/plain": [
              "array([3911.72998047,           nan,           nan,           nan,\n",
              "                 nan,           nan,           nan,           nan,\n",
              "                 nan,           nan,           nan,           nan,\n",
              "                 nan,           nan,           nan,           nan,\n",
              "                 nan, 6031.60986328, 5709.75      ,           nan,\n",
              "                 nan,           nan,           nan,           nan,\n",
              "                 nan,           nan,           nan, 5761.62011719,\n",
              "                 nan,           nan,           nan, 5477.14990234,\n",
              "                 nan,           nan,           nan,           nan,\n",
              "                 nan,           nan,           nan,           nan,\n",
              "                 nan,           nan, 5645.70019531,           nan,\n",
              "       6054.25976562,           nan,           nan,           nan,\n",
              "                 nan,           nan,           nan,           nan,\n",
              "                 nan,           nan,           nan,           nan,\n",
              "                 nan,           nan,           nan,           nan,\n",
              "                 nan,           nan,           nan,           nan,\n",
              "                 nan,           nan,           nan,           nan,\n",
              "       6410.31005859,           nan, 7385.41015625,           nan,\n",
              "                 nan,           nan,           nan,           nan,\n",
              "                 nan,           nan,           nan,           nan,\n",
              "                 nan,           nan, 5611.74023438, 5704.39990234,\n",
              "       5969.95996094, 6257.39013672, 6493.83007812,           nan,\n",
              "                 nan,           nan,           nan, 6800.33984375,\n",
              "       6202.81005859, 6623.16015625,           nan,           nan,\n",
              "                 nan,           nan,           nan, 6218.70019531,\n",
              "                 nan,           nan,           nan,           nan,\n",
              "                 nan,           nan,           nan,           nan,\n",
              "                 nan,           nan,           nan,           nan,\n",
              "                 nan,           nan,           nan,           nan,\n",
              "                 nan,           nan,           nan,           nan,\n",
              "                 nan,           nan,           nan,           nan,\n",
              "                 nan, 6703.47021484,           nan,           nan,\n",
              "                 nan,           nan, 3903.41992188,           nan,\n",
              "                 nan,           nan,           nan, 5591.31982422,\n",
              "                 nan,           nan,           nan,           nan,\n",
              "                 nan,           nan,           nan,           nan,\n",
              "       7640.39013672,           nan, 5289.37988281, 5772.16015625,\n",
              "       6190.97998047, 6476.50976562,           nan,           nan,\n",
              "                 nan, 6445.52001953,           nan,           nan,\n",
              "                 nan,           nan,           nan, 5548.62011719,\n",
              "                 nan,           nan, 4834.52001953,           nan,\n",
              "                 nan,           nan,           nan,           nan,\n",
              "                 nan,           nan,           nan,           nan,\n",
              "                 nan,           nan,           nan,           nan,\n",
              "       6510.87011719, 5226.06005859, 5492.02001953,           nan,\n",
              "                 nan,           nan, 5551.85986328, 6566.62011719,\n",
              "                 nan, 5105.14013672, 5707.62011719, 5566.56982422,\n",
              "                 nan,           nan,           nan,           nan,\n",
              "                 nan,           nan, 6595.68017578,           nan,\n",
              "                 nan,           nan,           nan, 6686.41015625,\n",
              "                 nan, 5880.85986328, 5749.95019531, 6215.47021484,\n",
              "                 nan,           nan,           nan,           nan,\n",
              "                 nan, 5559.18994141, 4568.70996094,           nan,\n",
              "                 nan, 5051.27001953, 4592.74023438,           nan,\n",
              "                 nan, 5471.18994141,           nan,           nan,\n",
              "       6187.89990234,           nan,           nan,           nan,\n",
              "       4953.70996094,           nan,           nan, 6008.25976562,\n",
              "                 nan,           nan,           nan,           nan,\n",
              "                 nan, 5849.87011719,           nan,           nan,\n",
              "                 nan,           nan,           nan,           nan,\n",
              "                 nan,           nan,           nan,           nan,\n",
              "                 nan,           nan,           nan,           nan,\n",
              "                 nan, 8333.66992188,           nan,           nan,\n",
              "       6696.91015625,           nan,           nan,           nan,\n",
              "                 nan, 6045.89990234,           nan,           nan,\n",
              "                 nan,           nan,           nan,           nan,\n",
              "                 nan,           nan,           nan,           nan,\n",
              "                 nan,           nan,           nan,           nan,\n",
              "                 nan,           nan,           nan,           nan,\n",
              "                 nan,           nan,           nan,           nan,\n",
              "                 nan,           nan,           nan,           nan,\n",
              "       6667.54003906,           nan,           nan,           nan,\n",
              "       6378.62988281, 4573.62011719,           nan,           nan,\n",
              "                 nan,           nan,           nan, 6050.45996094,\n",
              "                 nan,           nan,           nan,           nan,\n",
              "                 nan,           nan, 5660.87988281,           nan,\n",
              "                 nan,           nan,           nan, 5741.12988281,\n",
              "                 nan, 5683.56982422,           nan,           nan,\n",
              "                 nan,           nan,           nan, 5740.47998047,\n",
              "       5020.24023438, 5144.99023438, 5889.52978516,           nan,\n",
              "                 nan,           nan,           nan,           nan,\n",
              "                 nan,           nan,           nan,           nan,\n",
              "                 nan,           nan,           nan, 6750.66015625,\n",
              "                 nan, 6313.00976562,           nan,           nan,\n",
              "                 nan,           nan,           nan,           nan,\n",
              "                 nan,           nan,           nan,           nan,\n",
              "                 nan,           nan,           nan,           nan,\n",
              "                 nan,           nan,           nan,           nan,\n",
              "                 nan,           nan,           nan,           nan,\n",
              "                 nan,           nan,           nan,           nan,\n",
              "                 nan,           nan,           nan,           nan,\n",
              "                 nan,           nan,           nan,           nan,\n",
              "       5531.83984375,           nan, 6093.79980469,           nan,\n",
              "                 nan, 6125.83984375,           nan,           nan,\n",
              "                 nan,           nan,           nan,           nan,\n",
              "                 nan,           nan,           nan,           nan,\n",
              "                 nan,           nan, 6013.25976562,           nan,\n",
              "       6746.04003906,           nan,           nan,           nan,\n",
              "                 nan,           nan,           nan,           nan,\n",
              "                 nan, 5762.85009766,           nan,           nan,\n",
              "                 nan,           nan, 6742.87988281,           nan,\n",
              "                 nan, 6348.27001953,           nan, 7177.58007812,\n",
              "                 nan,           nan,           nan,           nan,\n",
              "       6257.56982422,           nan,           nan,           nan,\n",
              "                 nan,           nan,           nan,           nan,\n",
              "                 nan,           nan,           nan,           nan,\n",
              "       5659.60009766, 6818.25976562,           nan,           nan,\n",
              "                 nan,           nan,           nan,           nan,\n",
              "                 nan,           nan,           nan,           nan,\n",
              "                 nan,           nan,           nan,           nan,\n",
              "                 nan,           nan,           nan,           nan,\n",
              "                 nan, 6009.43017578,           nan,           nan,\n",
              "                 nan,           nan,           nan, 6591.52001953,\n",
              "       6937.02978516,           nan, 7420.47021484, 6554.50976562,\n",
              "                 nan,           nan,           nan,           nan,\n",
              "                 nan,           nan,           nan,           nan,\n",
              "                 nan,           nan,           nan,           nan,\n",
              "                 nan,           nan,           nan,           nan,\n",
              "                 nan,           nan,           nan,           nan,\n",
              "                 nan,           nan])"
            ]
          },
          "metadata": {
            "tags": []
          },
          "execution_count": 9
        }
      ]
    },
    {
      "cell_type": "code",
      "metadata": {
        "id": "MlYRZtdbLgwt"
      },
      "source": [
        "# package the results of the cross-match.\n",
        "Theia456_LAMOST = pd.DataFrame({'Teff':teff, 'e_Teff':e_teff, '[Fe/H]':feh, 'e_[Fe/H]':e_feh, 'RV':rv, 'e_RV':e_rv})"
      ],
      "execution_count": 10,
      "outputs": []
    },
    {
      "cell_type": "markdown",
      "metadata": {
        "id": "vKOGgV5LqnDO"
      },
      "source": [
        "#**Pleiades**\n",
        "\n",
        "Now, let's do the Pleiades for reference. We will use the Gaia Collaboration's membership list for simplicity (same HRD paper referenced earlier)."
      ]
    },
    {
      "cell_type": "markdown",
      "metadata": {
        "id": "e_aB7xQfMBfo"
      },
      "source": [
        "**Pleiades membership**"
      ]
    },
    {
      "cell_type": "code",
      "metadata": {
        "colab": {
          "base_uri": "https://localhost:8080/"
        },
        "id": "N7v-giogqmcH",
        "outputId": "d2451a70-6d6b-427a-d0ad-5423019e7ae1"
      },
      "source": [
        "# Download Gaia Collaboration catalog\n",
        "# We will use Gaia Collaboration (2018) lists for now.\n",
        "vizier_gaia_clusters_near = \"J/A+A/616/A10/tablea1a\"\n",
        "vizier_gaia_clusters_far = \"J/A+A/616/A10/tablea1b\"\n",
        "\n",
        "qcat = Vizier(column_filters={'Cluster':'Pleiades'})\n",
        "qcat.ROW_LIMIT = -1\n",
        "Pleiades_catalog = qcat.get_catalogs(vizier_gaia_clusters_near)[0]\n",
        "print(len(Pleiades_catalog))\n",
        "\n",
        "# Cross-match with Gaia EDR3\n",
        "search_radius = 0.8\n",
        "Pleiades_edr3 = XMatch.query(cat1=Pleiades_catalog,\n",
        "                    cat2='vizier:I/350/gaiaedr3',\n",
        "                    max_distance=search_radius * units.arcsec, \n",
        "                    colRA1='RAdeg', colDec1='DEdeg')\n",
        "\n",
        "# Cross-match with Gaia DR2 so we have consistent photometry for the two clusters.\n",
        "Pleiades_dr2 = XMatch.query(cat1=Pleiades_catalog,\n",
        "                    cat2='vizier:I/345/gaia2',\n",
        "                    max_distance=search_radius * units.arcsec, \n",
        "                    colRA1='RAdeg', colDec1='DEdeg')\n",
        "\n",
        "print(\"Number of Gaia-matched sources:  \"+str(len(Pleiades_edr3)))  "
      ],
      "execution_count": 11,
      "outputs": [
        {
          "output_type": "stream",
          "text": [
            "1326\n",
            "Number of Gaia-matched sources:  1178\n"
          ],
          "name": "stdout"
        }
      ]
    },
    {
      "cell_type": "code",
      "metadata": {
        "id": "yBUor4oAMbVQ"
      },
      "source": [
        "Pleiades_bprp = np.array(Pleiades_dr2['bp_rp'],dtype=float)"
      ],
      "execution_count": 12,
      "outputs": []
    },
    {
      "cell_type": "markdown",
      "metadata": {
        "id": "uyHHeV_GMCd2"
      },
      "source": [
        "**Pleiades LAMOST**"
      ]
    },
    {
      "cell_type": "code",
      "metadata": {
        "colab": {
          "base_uri": "https://localhost:8080/"
        },
        "id": "tNBnP-WGL82c",
        "outputId": "2016fa75-0d21-4876-8f7f-792cfe89e378"
      },
      "source": [
        "search_radius = 2\n",
        "n_stars = len(Pleiades_dr2)\n",
        "pleiades_id_xmatch = np.empty(n_stars, dtype=object)\n",
        "pleiades_teff = np.zeros(n_stars, dtype=float) +np.nan\n",
        "pleiades_e_teff = np.zeros(n_stars, dtype=float) +np.nan\n",
        "pleiades_feh = np.zeros(n_stars, dtype=float) +np.nan\n",
        "pleiades_e_feh = np.zeros(n_stars, dtype=float) +np.nan\n",
        "pleiades_rv = np.zeros(n_stars, dtype=float) +np.nan\n",
        "pleiades_e_rv = np.zeros(n_stars, dtype=float) +np.nan\n",
        "\n",
        "for i in range(n_stars):\n",
        "  rad = np.sqrt((Pleiades_dr2['ra'][i] - lam_ra)**2+(Pleiades_dr2['dec'][i] - lam_dec)**2)\n",
        "  imatch = np.where(rad*3600 < search_radius)[0]\n",
        "  if len(imatch) == 1:\n",
        "    pleiades_id_xmatch[i] = imatch[0]\n",
        "    pleiades_teff[i] = lamost_data['teff'][imatch[0]]\n",
        "    pleiades_e_teff[i] = lamost_data['teff_err'][imatch[0]]\n",
        "    pleiades_feh[i] = lamost_data['feh'][imatch[0]]\n",
        "    pleiades_e_feh[i] = lamost_data['feh_err'][imatch[0]]\n",
        "    pleiades_rv[i] = lamost_data['rv'][imatch[0]]        \n",
        "    pleiades_e_rv[i] = lamost_data['rv_err'][imatch[0]]\n",
        "  if len(imatch) > 1:\n",
        "    teff_errors = np.array(lamost_data['teff_err'][imatch])\n",
        "    iuse = np.argmin(teff_errors)\n",
        "    print(i, teff_errors)\n",
        "    imatch = imatch[iuse]\n",
        "    pleiades_id_xmatch[i] = imatch\n",
        "    pleiades_teff[i] = lamost_data['teff'][imatch]\n",
        "    pleiades_e_teff[i] = lamost_data['teff_err'][imatch]\n",
        "    pleiades_feh[i] = lamost_data['feh'][imatch]\n",
        "    pleiades_e_feh[i] = lamost_data['feh_err'][imatch]\n",
        "    pleiades_rv[i] = lamost_data['rv'][imatch]        \n",
        "    pleiades_e_rv[i] = lamost_data['rv_err'][imatch]"
      ],
      "execution_count": 13,
      "outputs": [
        {
          "output_type": "stream",
          "text": [
            "2 [28.92 24.42]\n",
            "8 [43.48 43.94]\n",
            "16 [18.6  18.59 16.67]\n",
            "28 [17.33 17.95]\n",
            "48 [72.17 78.65]\n",
            "54 [244.95  76.16]\n",
            "58 [16.34 19.2  13.73]\n",
            "74 [111.67  64.34]\n",
            "75 [17.06 19.11 14.71]\n",
            "103 [176.75 171.47]\n",
            "109 [ 34.78  50.89 120.59]\n",
            "125 [36.24 55.02]\n",
            "150 [78.79 44.01]\n",
            "156 [20.6  25.59 20.71]\n",
            "191 [28.96 28.2 ]\n",
            "207 [61.61 26.96]\n",
            "261 [48.1  36.08]\n",
            "277 [15.51 65.04]\n",
            "280 [67.98 70.27]\n",
            "288 [17.41 11.37 11.1 ]\n",
            "295 [19.66 21.07]\n",
            "299 [16.54 15.05 12.29 11.5 ]\n",
            "300 [19.11 29.14 19.29 18.12]\n",
            "317 [73.47 45.32 51.89]\n",
            "320 [42.4  38.81]\n",
            "322 [20.24 29.77 29.01 22.09]\n",
            "332 [30.71 30.72]\n",
            "339 [83.05 94.17]\n",
            "364 [60.72 68.58 51.61]\n",
            "367 [12.08 19.75]\n",
            "373 [20.6  27.46]\n",
            "384 [128.61 130.66 114.68]\n",
            "385 [51.25 44.3 ]\n",
            "386 [38.39 80.46]\n",
            "389 [44.02 41.23]\n",
            "396 [9.33 7.43]\n",
            "409 [121.44 130.4   47.46]\n",
            "410 [36.19 24.37 33.58]\n",
            "423 [102.69 110.78]\n",
            "425 [16.81 22.03]\n",
            "427 [18.34 14.76 18.19]\n",
            "430 [64.07 61.88]\n",
            "434 [104.27  63.5 ]\n",
            "466 [13.22 17.94]\n",
            "469 [16.5  58.37]\n",
            "475 [-9.999e+03  6.450e+00]\n",
            "481 [43.51 54.77]\n",
            "482 [ 23.67  27.   127.76]\n",
            "490 [21.06 21.95 22.75]\n",
            "500 [ 24.12 149.92]\n",
            "504 [21.57 19.76]\n",
            "510 [12.23 21.08 17.11]\n",
            "514 [13.67 12.99]\n",
            "523 [ 88.94 211.91 227.4 ]\n",
            "527 [32.44 47.98 46.96 69.14]\n",
            "528 [56.29 54.37]\n",
            "530 [26.11 25.68]\n",
            "534 [134.29 182.86]\n",
            "544 [133.76 269.22  54.5 ]\n",
            "546 [28.44 30.99 33.03 36.2 ]\n",
            "553 [121.55  62.87]\n",
            "569 [106.54 107.37 114.01  94.34]\n",
            "574 [60.83 51.16]\n",
            "581 [ 18.9  371.12]\n",
            "586 [17.61 17.41]\n",
            "588 [190.43  31.23  25.35  69.02]\n",
            "604 [16.81 17.29]\n",
            "621 [81.33 51.69]\n",
            "644 [57.71 26.56]\n",
            "646 [31.09 13.99]\n",
            "667 [31.27 22.41 21.62]\n",
            "671 [31.88 23.57]\n",
            "677 [36.55 25.88]\n",
            "679 [164.08 111.45 138.26]\n",
            "683 [25.14 21.73]\n",
            "693 [32.79 48.65 40.43]\n",
            "697 [39.3 27.4]\n",
            "715 [100.92 217.16  80.82]\n",
            "735 [ 25.52  22.14 717.26]\n",
            "743 [101.97 127.42 202.21  94.09]\n",
            "756 [40.95 36.33]\n",
            "761 [61.23 53.59 48.91]\n",
            "780 [105.49  53.01 100.87]\n",
            "782 [41.28 22.04 29.62]\n",
            "784 [126.08  22.98]\n",
            "786 [20.89 17.7  16.6 ]\n",
            "790 [15.97 20.49]\n",
            "810 [92.69 69.63]\n",
            "811 [61.79 51.15 43.35]\n",
            "824 [101.17 210.22  55.8 ]\n",
            "827 [12.47  8.65]\n",
            "830 [25.65 17.7  15.99]\n",
            "860 [12.44 17.78]\n",
            "891 [25.05 33.06 22.92]\n",
            "896 [49.99 48.37 38.7 ]\n",
            "911 [23.57 63.07 27.24 23.15]\n",
            "916 [17.4  12.66]\n",
            "920 [32.97 39.03 30.12]\n",
            "921 [120.47 117.62]\n",
            "926 [16.64 10.4 ]\n",
            "927 [66.19 12.46]\n",
            "971 [56.49 35.04]\n",
            "1015 [ 81.38 112.28]\n",
            "1052 [252.3   43.17]\n",
            "1061 [25.43 25.35]\n",
            "1066 [122.56 105.73]\n",
            "1074 [62.08 87.09]\n",
            "1087 [ 9.54 27.64]\n",
            "1136 [24.43 21.68 22.48]\n",
            "1141 [212.74  25.04]\n",
            "1143 [12.59 17.83]\n",
            "1155 [84.21 47.85]\n",
            "1156 [57.48 38.2 ]\n"
          ],
          "name": "stdout"
        }
      ]
    },
    {
      "cell_type": "code",
      "metadata": {
        "id": "Oe5TqUBMMGkZ"
      },
      "source": [
        "# package the results of the cross-match.\n",
        "Pleiades_LAMOST = pd.DataFrame({'Teff':pleiades_teff, 'e_Teff':pleiades_e_teff, '[Fe/H]':pleiades_feh, 'e_[Fe/H]':pleiades_e_feh, 'RV':pleiades_rv, 'e_RV':pleiades_e_rv, 'BP-RP':Pleiades_bprp})"
      ],
      "execution_count": 14,
      "outputs": []
    },
    {
      "cell_type": "markdown",
      "metadata": {
        "id": "adgE2w2xR68c"
      },
      "source": [
        "**An empirical color$-$temperature relation based on the Pleiades.** \n",
        "\n",
        "We plot the Gaia DR2 ($G_{\\rm BP} - G_{\\rm RP}$) color vs. LAMOST $T_{\\rm eff}$, select a subset of stars that tightly follow the relationship, then fit a polynomial to it. "
      ]
    },
    {
      "cell_type": "code",
      "metadata": {
        "colab": {
          "base_uri": "https://localhost:8080/",
          "height": 559
        },
        "id": "K-Zy-oRuqzek",
        "outputId": "dcf0b136-dc87-452d-b843-0b90cb2bb5eb"
      },
      "source": [
        "i_pleiades = np.where(  (Pleiades_LAMOST['Teff']>4800) & (Pleiades_LAMOST['Teff']<7500) & \n",
        "                        (Pleiades_bprp<1.4) & (Pleiades_bprp>0.2))[0]\n",
        "#Pleiades_Teff = np.array(Pleiades_LAMOST['Teff'],dtype=float)\n",
        "\n",
        "teff_array = np.arange(4500,7500,10)\n",
        "#coeff = np.polyfit(Pleiades_Teff[i_pleiades], Pleiades_bprp[i_pleiades],3)\n",
        "coeff = np.polyfit(Pleiades_LAMOST['Teff'][i_pleiades], Pleiades_LAMOST['BP-RP'][i_pleiades],5)\n",
        "t2br_v1 = np.poly1d(coeff)\n",
        "i_fit = i_pleiades[np.where(abs(Pleiades_LAMOST['BP-RP'][i_pleiades] - t2br_v1(Pleiades_LAMOST['Teff'][i_pleiades]))<0.1)[0]]\n",
        "coeff = np.polyfit(Pleiades_LAMOST['Teff'][i_fit], Pleiades_LAMOST['BP-RP'][i_fit],5)\n",
        "pleiades_t2br = np.poly1d(coeff)\n",
        "\n",
        "plt.scatter(Pleiades_LAMOST['Teff'][i_pleiades], Pleiades_LAMOST['BP-RP'][i_pleiades],c='orange')\n",
        "plt.scatter(Pleiades_LAMOST['Teff'][i_fit], Pleiades_LAMOST['BP-RP'][i_fit],c='blue')\n",
        "plt.plot(teff_array, pleiades_t2br(teff_array),c='red')\n",
        "plt.xlabel('Teff',fontsize=20)\n",
        "plt.ylabel('BP-RP',fontsize=20)\n",
        "plt.show()\n",
        "\n",
        "plt.scatter(Pleiades_LAMOST['Teff'][i_pleiades], Pleiades_LAMOST['BP-RP'][i_pleiades] - pleiades_t2br(Pleiades_LAMOST['Teff'][i_pleiades]),c='orange')\n",
        "plt.xlabel('Teff',fontsize=20)\n",
        "plt.ylabel('BP-RP - Model',fontsize=20)\n",
        "\n",
        "plt.show()"
      ],
      "execution_count": 15,
      "outputs": [
        {
          "output_type": "display_data",
          "data": {
            "image/png": "[encoded data removed]",
            "text/plain": [
              "<Figure size 432x288 with 1 Axes>"
            ]
          },
          "metadata": {
            "tags": [],
            "needs_background": "light"
          }
        },
        {
          "output_type": "display_data",
          "data": {
            "image/png": "[encoded data removed]",
            "text/plain": [
              "<Figure size 432x288 with 1 Axes>"
            ]
          },
          "metadata": {
            "tags": [],
            "needs_background": "light"
          }
        }
      ]
    },
    {
      "cell_type": "markdown",
      "metadata": {
        "id": "wUVBMtVFStAk"
      },
      "source": [
        "#**Reddening for Theia 456**\n",
        "\n",
        "We compare the color$-$temperature distributions for Theia 456 and the Pleiades to determine the excess reddening toward Theia 456. For Pleiades, we adopt $A_V = 0.12$ mag for converting to the absolute values for Theia 456.\n",
        "\n",
        "The bulk of the offset and scatter can be explained by $A_V = 0.2$ to $0.7$ mag."
      ]
    },
    {
      "cell_type": "code",
      "metadata": {
        "colab": {
          "base_uri": "https://localhost:8080/",
          "height": 286
        },
        "id": "zPe7yGYASu_R",
        "outputId": "9dcd9270-2216-49fd-ca8c-7e159725566a"
      },
      "source": [
        "plt.scatter(Pleiades_LAMOST['Teff'][i_fit], Pleiades_LAMOST['BP-RP'][i_fit],c='blue')\n",
        "iuse = np.where(e_teff < 100)[0]\n",
        "plt.scatter(Theia456_LAMOST['Teff'][iuse], Theia456_bprp[iuse],c='orange')\n",
        "av1 = 0.2\n",
        "plt.plot(teff_array, pleiades_t2br(teff_array)+0.415*(av1-0.12),c='red')\n",
        "av2 = 0.7\n",
        "plt.plot(teff_array, pleiades_t2br(teff_array)+0.415*(av2-0.12),c='red')\n",
        "\n",
        "plt.xlim(5000,7000)\n",
        "plt.ylim(0.5,1.3)"
      ],
      "execution_count": 16,
      "outputs": [
        {
          "output_type": "execute_result",
          "data": {
            "text/plain": [
              "(0.5, 1.3)"
            ]
          },
          "metadata": {
            "tags": []
          },
          "execution_count": 16
        },
        {
          "output_type": "display_data",
          "data": {
            "image/png": "[encoded data removed]",
            "text/plain": [
              "<Figure size 432x288 with 1 Axes>"
            ]
          },
          "metadata": {
            "tags": [],
            "needs_background": "light"
          }
        }
      ]
    },
    {
      "cell_type": "markdown",
      "metadata": {
        "id": "SDPsr5nQT6vR"
      },
      "source": [
        "#**Metallicity**"
      ]
    },
    {
      "cell_type": "markdown",
      "metadata": {
        "id": "zblBgd8FT8lX"
      },
      "source": [
        "**Pleiades**\n",
        "\n",
        "Let's first look at the distribution for the Pleiades. This will illustrate some of the limitations of the LAMOST data.\n",
        "\n",
        "The systematic trends with $T_{\\rm eff}$ are obvious. These systematics mean we cannot simply take a median to determine the metallicity for a group of stars, and we cannot simply calculate a standard deviation to determine the dispersion. Instead, these calculations must be done relative to this systematic pattern that is common to all stars."
      ]
    },
    {
      "cell_type": "code",
      "metadata": {
        "colab": {
          "base_uri": "https://localhost:8080/",
          "height": 506
        },
        "id": "HnOrM1H33fbc",
        "outputId": "09c95e48-da9d-42d2-85d7-6e11e0b05e46"
      },
      "source": [
        "fig, ax1 = plt.subplots(figsize=(10,8))\n",
        "\n",
        "ax1.scatter(Pleiades_LAMOST['Teff'], Pleiades_LAMOST['[Fe/H]'], label='All Pleiads')\n",
        "ax1.scatter(Pleiades_LAMOST['Teff'][i_fit], Pleiades_LAMOST['[Fe/H]'][i_fit],label='Subset used for color-teff relation')\n",
        "ax1.legend(fancybox=True, framealpha=1, shadow=False, borderpad=0.2, fontsize=\"xx-large\",handletextpad=0.1,loc='lower right')\n",
        "ax1.set_xlabel('Effective Temperature (K)',fontsize=20)\n",
        "ax1.set_ylabel('[Fe/H] (dex)',fontsize=20)\n",
        "ax1.set_ylim(-1,0.3)\n",
        "ax1.set_xlim(3700,7500)\n",
        "plt.show()\n"
      ],
      "execution_count": 17,
      "outputs": [
        {
          "output_type": "display_data",
          "data": {
            "image/png": "[encoded data removed]",
            "text/plain": [
              "<Figure size 720x576 with 1 Axes>"
            ]
          },
          "metadata": {
            "tags": [],
            "needs_background": "light"
          }
        }
      ]
    },
    {
      "cell_type": "markdown",
      "metadata": {
        "id": "q6uiYsFjVKCr"
      },
      "source": [
        "**Theia 456 Metallicity**\n",
        "\n",
        "*(Left)* [Fe/H] for full Theia 456 sample compared to the Pleiades; you can see the same systematic pattern where warmer F dwarfs have a lower metallicity than cooler G and early-K dwarfs, but the late-K dwarfs are also lower. \n",
        "\n",
        "*(Right)* Zooming in on, what I consider to be, the \"good\" range of temperature between $5000 < T_{\\rm eff} < 6500$ K, we see that the Pleiades and Theia 456 distributions approximately match by adding +0.1 dex to the Theia 456 values. \n",
        "\n",
        "Adopting [Fe/H] = $+0.03$ dex for the Pleiades (Soderblom et al. 2009), this means [Fe/H] = $-0.07$ dex for Theia 456. This happens to be pretty much the value of the median for the sample ($-0.08$ dex, which is what is done in the paper currently), but this is a coincidence due to the particular temperature range covered by the LAMOST survey combined with the systematic pattern. If the cluster were a bit more distant, maybe we would lose the later K dwarfs and this would bump up the median."
      ]
    },
    {
      "cell_type": "code",
      "metadata": {
        "colab": {
          "base_uri": "https://localhost:8080/",
          "height": 510
        },
        "id": "eijPr0WZ4F1_",
        "outputId": "93381c1f-b30d-4554-e586-94da290bd685"
      },
      "source": [
        "fig, (ax_456, ax_compare) = plt.subplots(1,2,figsize=(22,8))\n",
        "\n",
        "ax_456.scatter(Pleiades_LAMOST['Teff'], Pleiades_LAMOST['[Fe/H]'], label='Pleiades')\n",
        "ax_456.scatter(Theia456_LAMOST['Teff'], Theia456_LAMOST['[Fe/H]'], label='Theia 456')\n",
        "ax_456.legend(fancybox=True, framealpha=1, shadow=False, borderpad=0.2, fontsize=\"xx-large\",handletextpad=0.1,loc='lower right')\n",
        "ax_456.set_xlabel('Effective Temperature (K)',fontsize=20)\n",
        "ax_456.set_xlabel('[Fe/H] (dex)',fontsize=20)\n",
        "ax_456.set_ylim(-1,0.3)\n",
        "ax_456.set_xlim(3700,7500)\n",
        "ax_456.set_xlabel('Effective Temperature (K)',fontsize=20)\n",
        "ax_456.set_ylabel('[Fe/H] (dex)',fontsize=20)\n",
        "\n",
        "\n",
        "ax_compare.scatter(Pleiades_LAMOST['Teff'][i_fit], Pleiades_LAMOST['[Fe/H]'][i_fit],label='Pleiades')\n",
        "ax_compare.scatter(Theia456_LAMOST['Teff'], Theia456_LAMOST['[Fe/H]']+0.1, label='Theia 456 + 0.1 dex')\n",
        "ax_compare.legend(fancybox=True, framealpha=1, shadow=False, borderpad=0.2, fontsize=\"xx-large\",handletextpad=0.1,loc='lower right')\n",
        "ax_compare.set_xlabel('Effective Temperature (K)',fontsize=20)\n",
        "ax_compare.set_ylabel('[Fe/H] (dex)',fontsize=20)\n",
        "ax_compare.set_ylim(-0.2,0.3)\n",
        "ax_compare.set_xlim(5200,7000)\n",
        "\n",
        "plt.show()\n"
      ],
      "execution_count": 18,
      "outputs": [
        {
          "output_type": "display_data",
          "data": {
            "image/png": "[encoded data removed]",
            "text/plain": [
              "<Figure size 1584x576 with 2 Axes>"
            ]
          },
          "metadata": {
            "tags": [],
            "needs_background": "light"
          }
        }
      ]
    },
    {
      "cell_type": "markdown",
      "metadata": {
        "id": "xu3Tr6tgXXGx"
      },
      "source": [
        "**Dispersion and Uncertainties**\n",
        "\n",
        "Here, we plot teff vs its error, feh vs its error, and teff vs feh error. We can see that stars in Theia 456 generally have more uncertain spectroscopic properties. This is due to the lower $S/N$ for these more distant stars compared to those in the Pleiades. Regarding [Fe/H], stars cooler than $T_{\\rm eff} \\lesssim 6000$ K all have very elevated errors. \n",
        "\n",
        "So why do the distributions appear to have similar scatter? Well, maybe the Pleiades errors are not realistic. Also, there are other issues at work: magnetic activity can bias spectroscopic measurements ([Yana Galarza et al. 2019](https://ui.adsabs.harvard.edu/abs/2020ApJ...895...52S/abstract), [Spina et al. 2020](https://ui.adsabs.harvard.edu/abs/2020ApJ...895...52S/abstract)), we have not filtered out rapid stars (which can smear lines from Doppler broadening, but that shouldn't matter here because the line spread function is dominated by the low spectral resolution; but rotation correlates with activity, which could be an issue), we have not filtered out binaries, and maybe there are other reasons. I doubt large intrinsic dispersion is a cause, because that would have been found years ago at higher resolution."
      ]
    },
    {
      "cell_type": "code",
      "metadata": {
        "colab": {
          "base_uri": "https://localhost:8080/",
          "height": 455
        },
        "id": "ZZ4yGr24CJyW",
        "outputId": "d0715921-7c10-41f5-9255-3ddb5e6c34b8"
      },
      "source": [
        "fig, (ax1, ax2, ax3) = plt.subplots(1,3,figsize=(25,7))\n",
        "\n",
        "ax1.scatter(Pleiades_LAMOST['Teff'], Pleiades_LAMOST['e_Teff'], label='Pleiades')\n",
        "ax1.scatter(Theia456_LAMOST['Teff'], Theia456_LAMOST['e_Teff'], label='Theia 456')\n",
        "ax1.set_ylim(0,300)\n",
        "ax1.set_xlim(3500,8000)\n",
        "ax1.set_xlabel('Teff',fontsize=20)\n",
        "ax1.set_ylabel('e Teff',fontsize=20)\n",
        "ax_456.legend(fancybox=True, framealpha=1, shadow=False, borderpad=0.2, fontsize=\"xx-large\",handletextpad=0.1,loc='lower right')\n",
        "\n",
        "\n",
        "ax2.scatter(Pleiades_LAMOST['[Fe/H]'], Pleiades_LAMOST['e_[Fe/H]'])\n",
        "ax2.scatter(Theia456_LAMOST['[Fe/H]'], Theia456_LAMOST['e_[Fe/H]'])\n",
        "ax2.set_ylim(0,0.3)\n",
        "ax2.set_xlim(-0.8,0.3)\n",
        "ax2.set_xlabel('[Fe/H]',fontsize=20)\n",
        "ax2.set_ylabel('e [Fe/H]',fontsize=20)\n",
        "\n",
        "ax3.scatter(Pleiades_LAMOST['Teff'], Pleiades_LAMOST['e_[Fe/H]'])\n",
        "ax3.scatter(Theia456_LAMOST['Teff'], Theia456_LAMOST['e_[Fe/H]'])\n",
        "ax3.set_ylim(0,0.3)\n",
        "ax3.set_xlim(3500,8000)\n",
        "ax3.set_xlabel('Teff',fontsize=20)\n",
        "ax3.set_ylabel('e [Fe/H]',fontsize=20)\n",
        "\n",
        "plt.show()"
      ],
      "execution_count": 19,
      "outputs": [
        {
          "output_type": "display_data",
          "data": {
            "image/png": "[encoded data removed]",
            "text/plain": [
              "<Figure size 1800x504 with 3 Axes>"
            ]
          },
          "metadata": {
            "tags": [],
            "needs_background": "light"
          }
        }
      ]
    },
    {
      "cell_type": "markdown",
      "metadata": {
        "id": "pnnIkuRb9MDI"
      },
      "source": [
        "#**CMD**\n",
        "\n",
        "When plotting the CMD, we should use the parallaxes to remove the distance dependence on the magnitude. The main trouble here is parallax errors. However, we can (and should) filter out stars with high ruwe (>1.2), which can have bogus parallaxes, and the parallax errors due to faintness are really only an issue for $G > 16$, which we can see below.\n"
      ]
    },
    {
      "cell_type": "code",
      "metadata": {
        "colab": {
          "base_uri": "https://localhost:8080/",
          "height": 300
        },
        "id": "zOxg0KS69Q8H",
        "outputId": "b88e04f1-73f8-46c9-ac1d-98d2e1b8fd14"
      },
      "source": [
        "plt.scatter(Theia456_Gmag, 5*np.log10(100/(theia_data['PARALLAX'][i456]+theia_data['PARALLAX_ERROR'][i456])) - 5*np.log10(100/theia_data['PARALLAX'][i456]))\n",
        "plt.scatter(Theia456_Gmag, 5*np.log10(100/(theia_data['PARALLAX'][i456]-theia_data['PARALLAX_ERROR'][i456])) - 5*np.log10(100/theia_data['PARALLAX'][i456]))\n",
        "plt.ylim(-0.3,0.3)\n",
        "plt.xlabel(\"$G$ (mag)\",fontsize=20)\n",
        "plt.ylabel('distance modulus error', fontsize=20)\n",
        "plt.show()"
      ],
      "execution_count": 20,
      "outputs": [
        {
          "output_type": "display_data",
          "data": {
            "image/png": "[encoded data removed]",
            "text/plain": [
              "<Figure size 432x288 with 1 Axes>"
            ]
          },
          "metadata": {
            "tags": [],
            "needs_background": "light"
          }
        }
      ]
    },
    {
      "cell_type": "code",
      "metadata": {
        "colab": {
          "base_uri": "https://localhost:8080/",
          "height": 617
        },
        "id": "S5__Wiw89Mza",
        "outputId": "4a707a46-e305-4bd7-f1ba-88aa565b94e1"
      },
      "source": [
        "ifaint = np.where(Theia456_Gmag > 16)[0]\n",
        "\n",
        "fig, (ax1, ax2) = plt.subplots(1,2,figsize=(20,10))\n",
        "ax1.scatter(Theia456_bprp, Theia456_Gmag - np.median(Theia456_dm))\n",
        "ax1.scatter(Theia456_bprp[ifaint], Theia456_Gmag[ifaint] - np.median(Theia456_dm))\n",
        "ax1.set_ylim(10,-1)\n",
        "ax1.set_xlabel(r'$G_{\\rm BP} - G_{\\rm RP}$',fontsize=20)\n",
        "ax1.set_ylabel('$G$',fontsize=20)\n",
        "\n",
        "ax2.scatter(Theia456_bprp, Theia456_MG)\n",
        "ax2.scatter(Theia456_bprp[ifaint], Theia456_MG[ifaint])\n",
        "ax2.set_ylim(10,-1)\n",
        "ax2.set_xlabel(r'$G_{\\rm BP} - G_{\\rm RP}$',fontsize=20)\n",
        "ax2.set_ylabel('$M_G$',fontsize=20)\n",
        "plt.show()"
      ],
      "execution_count": 21,
      "outputs": [
        {
          "output_type": "display_data",
          "data": {
            "image/png": "[encoded data removed]",
            "text/plain": [
              "<Figure size 1440x720 with 2 Axes>"
            ]
          },
          "metadata": {
            "tags": [],
            "needs_background": "light"
          }
        }
      ]
    },
    {
      "cell_type": "markdown",
      "metadata": {
        "id": "-Htx3inLZ73W"
      },
      "source": [
        "The funny thing is, it kind of looks like the left CMD using apparent $G$ is tighter at the upper left than in the right using absolute $M_G$. However, this can be coincidental from the high amount of differential extinction/reddening. \n",
        "\n",
        "Is using an average distance modulus a good assumption? According to the plots below, there isn't much tilt toward or away from us. Probably why it looks so elongated on the sky. So most stars have the same distance modulus. Still, the parallaxes are precise enough for the stars that matter, so it is best to use them."
      ]
    },
    {
      "cell_type": "code",
      "metadata": {
        "colab": {
          "base_uri": "https://localhost:8080/",
          "height": 351
        },
        "id": "g-tFuSuP-qkG",
        "outputId": "2d1d3e99-1bc5-477a-a0c1-da4f62073602"
      },
      "source": [
        "fig, (ax1, ax2) = plt.subplots(1,2,figsize=(15,5))\n",
        "ax1.scatter(Theia456_RA, theia_data['PARALLAX'][i456])\n",
        "ax1.set_xlabel('RA')\n",
        "ax1.set_ylabel('Parallax')\n",
        "\n",
        "ax2.scatter(Theia456_Dec, theia_data['PARALLAX'][i456])\n",
        "ax2.set_xlabel('Dec')\n",
        "ax2.set_ylabel('Parallax')\n"
      ],
      "execution_count": 22,
      "outputs": [
        {
          "output_type": "execute_result",
          "data": {
            "text/plain": [
              "Text(0, 0.5, 'Parallax')"
            ]
          },
          "metadata": {
            "tags": []
          },
          "execution_count": 22
        },
        {
          "output_type": "display_data",
          "data": {
            "image/png": "[encoded data removed]",
            "text/plain": [
              "<Figure size 1080x360 with 2 Axes>"
            ]
          },
          "metadata": {
            "tags": [],
            "needs_background": "light"
          }
        }
      ]
    },
    {
      "cell_type": "markdown",
      "metadata": {
        "id": "VaNKC9pnbSL6"
      },
      "source": [
        "#**Isochrone fitting troubles**\n",
        "\n",
        "Let's fit an isochrone to the Pleiades CMD. First, we need an isochrone model. I downloaded a grid of [PARSEC models](http://stev.oapd.inaf.it/cgi-bin/cmd) with [Fe/H] = +0.03 dex (Soderblom et al. 2009) and $A_V = 0.12$ mag (me and others) with Gaia EDR3 filters and ages between 100-400 Myr."
      ]
    },
    {
      "cell_type": "code",
      "metadata": {
        "id": "NJ5XQ0Cec1z8"
      },
      "source": [
        "file_isochrone = glob(dir_drive+'Isochrones/*PARSEC-Pleiades-feh_and_Av*')\n",
        "isochrone = ascii.read(file_isochrone[0], delimiter=r'\\s')\n"
      ],
      "execution_count": 23,
      "outputs": []
    },
    {
      "cell_type": "markdown",
      "metadata": {
        "id": "Fj5lNg3vep7m"
      },
      "source": [
        "we need to select isochrones out of the grid. Here's a function for locating the entry in an array most similar to a desired value."
      ]
    },
    {
      "cell_type": "code",
      "metadata": {
        "id": "LFGZW5vNdd7J"
      },
      "source": [
        "def findel(value, array):\n",
        "  np_array = np.array(array)\n",
        "  iloc = np.argmin(abs(np_array - value))\n",
        "  return iloc"
      ],
      "execution_count": 24,
      "outputs": []
    },
    {
      "cell_type": "markdown",
      "metadata": {
        "id": "_SbM_QTwe3Qz"
      },
      "source": [
        "Now, let's plot the Pleiades CMD and overlay isochrones at (*left*) 120 Myr  and (*right*) 200 Myr. The 200 Myr model is clearly a better fit. The age is also wrong. We know the age is 120 Myr from the detection and modeling of the lithium depletion boundary (e.g., Stauffer et al. 1998). Why the discrepancy? I'm not sure. Maybe we should try other filters just to see."
      ]
    },
    {
      "cell_type": "code",
      "metadata": {
        "colab": {
          "base_uri": "https://localhost:8080/",
          "height": 504
        },
        "id": "2YorpUhNbT3h",
        "outputId": "8c236c17-b76a-4865-bd94-a4877cb64506"
      },
      "source": [
        "iuse = np.where(Pleiades_edr3['ruwe']<1.2)[0]\n",
        "fig, (ax1, ax2) = plt.subplots(1,2,figsize=(20,8))\n",
        "ax1.scatter(Pleiades_edr3['bp_rp'][iuse], Pleiades_edr3['Gmag'][iuse] - 5*np.log10(100/Pleiades_edr3['parallax'][iuse]),label='Pleiades')\n",
        "age = 120\n",
        "lages = np.unique(isochrone['logAge'])\n",
        "iage = findel(np.log10(age*1e6),lages)\n",
        "iu = np.where((isochrone['logAge'] == lages[iage]) & (isochrone['label'] < 4))\n",
        "ax1.plot(isochrone['G_BPmag'][iu[0]] - isochrone['G_RPmag'][iu[0]],isochrone['Gmag'][iu[0]], c='red', label='Age = '+str(age))\n",
        "ax1.set_ylim(6,-1)\n",
        "ax1.set_xlim(-0.2,1.2)\n",
        "ax1.legend(fancybox=True, framealpha=1, shadow=False, borderpad=0.2, fontsize=\"xx-large\",handletextpad=0.4,loc='upper right')\n",
        "\n",
        "\n",
        "ax2.scatter(Pleiades_edr3['bp_rp'][iuse], Pleiades_edr3['Gmag'][iuse] - 5*np.log10(100/Pleiades_edr3['parallax'][iuse]),label='Pleiades')\n",
        "age = 200\n",
        "lages = np.unique(isochrone['logAge'])\n",
        "iage = findel(np.log10(age*1e6),lages)\n",
        "iu = np.where((isochrone['logAge'] == lages[iage]) & (isochrone['label'] < 4))\n",
        "ax2.plot(isochrone['G_BPmag'][iu[0]] - isochrone['G_RPmag'][iu[0]],isochrone['Gmag'][iu[0]], c='red', label='Age = '+str(age))\n",
        "ax2.set_ylim(6,-1)\n",
        "ax2.set_xlim(-0.2,1.2)\n",
        "ax2.legend(fancybox=True, framealpha=1, shadow=False, borderpad=0.2, fontsize=\"xx-large\",handletextpad=0.4,loc='upper right')"
      ],
      "execution_count": 25,
      "outputs": [
        {
          "output_type": "execute_result",
          "data": {
            "text/plain": [
              "<matplotlib.legend.Legend at 0x7f335da72c90>"
            ]
          },
          "metadata": {
            "tags": []
          },
          "execution_count": 25
        },
        {
          "output_type": "display_data",
          "data": {
            "image/png": "[encoded data removed]",
            "text/plain": [
              "<Figure size 1440x576 with 2 Axes>"
            ]
          },
          "metadata": {
            "tags": [],
            "needs_background": "light"
          }
        }
      ]
    },
    {
      "cell_type": "markdown",
      "metadata": {
        "id": "qFBefFXjhJ9H"
      },
      "source": [
        "**Let's try 2MASS**"
      ]
    },
    {
      "cell_type": "code",
      "metadata": {
        "colab": {
          "base_uri": "https://localhost:8080/",
          "height": 191
        },
        "id": "UNx-9EaofMfX",
        "outputId": "786a026b-5a36-4c2e-ec98-6f6102e534ff"
      },
      "source": [
        "# Cross-match with 2MASS\n",
        "#lit_table = Table.from_pandas(Pleiades_edr3)\n",
        "tm = XMatch.query(cat1=Pleiades_edr3,\n",
        "                  cat2='vizier:II/246/out',\n",
        "                  max_distance=1 * units.arcsec, \n",
        "                  colRA1='ra', colDec1='dec')\n",
        "pleiades_2mass = tm.to_pandas()\n",
        "pleiades_2mass[0:3]"
      ],
      "execution_count": 26,
      "outputs": [
        {
          "output_type": "execute_result",
          "data": {
            "text/html": [
              "<div>\n",
              "<style scoped>\n",
              "    .dataframe tbody tr th:only-of-type {\n",
              "        vertical-align: middle;\n",
              "    }\n",
              "\n",
              "    .dataframe tbody tr th {\n",
              "        vertical-align: top;\n",
              "    }\n",
              "\n",
              "    .dataframe thead th {\n",
              "        text-align: right;\n",
              "    }\n",
              "</style>\n",
              "<table border=\"1\" class=\"dataframe\">\n",
              "  <thead>\n",
              "    <tr style=\"text-align: right;\">\n",
              "      <th></th>\n",
              "      <th>angDist_1</th>\n",
              "      <th>angDist_2</th>\n",
              "      <th>Source</th>\n",
              "      <th>Cluster</th>\n",
              "      <th>RAdeg</th>\n",
              "      <th>DEdeg</th>\n",
              "      <th>Gmag</th>\n",
              "      <th>plx</th>\n",
              "      <th>e_plx</th>\n",
              "      <th>Simbad</th>\n",
              "      <th>_RA</th>\n",
              "      <th>_DE</th>\n",
              "      <th>ra_epoch2000</th>\n",
              "      <th>dec_epoch2000</th>\n",
              "      <th>errHalfMaj_1</th>\n",
              "      <th>errHalfMin_1</th>\n",
              "      <th>errPosAng_1</th>\n",
              "      <th>source_id</th>\n",
              "      <th>ra</th>\n",
              "      <th>ra_error</th>\n",
              "      <th>dec</th>\n",
              "      <th>dec_error</th>\n",
              "      <th>parallax</th>\n",
              "      <th>parallax_error</th>\n",
              "      <th>parallax_over_error</th>\n",
              "      <th>pm</th>\n",
              "      <th>pmra</th>\n",
              "      <th>pmra_error</th>\n",
              "      <th>pmdec</th>\n",
              "      <th>pmdec_error</th>\n",
              "      <th>astrometric_n_good_obs_al</th>\n",
              "      <th>astrometric_gof_al</th>\n",
              "      <th>astrometric_chi2_al</th>\n",
              "      <th>astrometric_excess_noise</th>\n",
              "      <th>astrometric_excess_noise_sig</th>\n",
              "      <th>astrometric_params_solved</th>\n",
              "      <th>pseudocolour</th>\n",
              "      <th>pseudocolour_error</th>\n",
              "      <th>visibility_periods_used</th>\n",
              "      <th>ruwe</th>\n",
              "      <th>...</th>\n",
              "      <th>phot_bp_mean_mag</th>\n",
              "      <th>phot_rp_mean_flux</th>\n",
              "      <th>phot_rp_mean_mag</th>\n",
              "      <th>phot_bp_rp_excess_factor</th>\n",
              "      <th>bp_rp</th>\n",
              "      <th>dr2_radial_velocity</th>\n",
              "      <th>dr2_radial_velocity_error</th>\n",
              "      <th>dr2_rv_nb_transits</th>\n",
              "      <th>dr2_rv_template_teff</th>\n",
              "      <th>dr2_rv_template_logg</th>\n",
              "      <th>panstarrs1</th>\n",
              "      <th>sdssdr13</th>\n",
              "      <th>skymapper2</th>\n",
              "      <th>urat1</th>\n",
              "      <th>phot_g_mean_mag_error</th>\n",
              "      <th>phot_bp_mean_mag_error</th>\n",
              "      <th>phot_rp_mean_mag_error</th>\n",
              "      <th>phot_g_mean_mag_corrected</th>\n",
              "      <th>phot_g_mean_mag_error_corrected</th>\n",
              "      <th>phot_g_mean_flux_corrected</th>\n",
              "      <th>phot_bp_rp_excess_factor_corrected</th>\n",
              "      <th>ra_epoch2000_error</th>\n",
              "      <th>dec_epoch2000_error</th>\n",
              "      <th>ra_dec_epoch2000_corr</th>\n",
              "      <th>2MASS</th>\n",
              "      <th>RAJ2000</th>\n",
              "      <th>DEJ2000</th>\n",
              "      <th>errHalfMaj_2</th>\n",
              "      <th>errHalfMin_2</th>\n",
              "      <th>errPosAng_2</th>\n",
              "      <th>Jmag</th>\n",
              "      <th>Hmag</th>\n",
              "      <th>Kmag</th>\n",
              "      <th>e_Jmag</th>\n",
              "      <th>e_Hmag</th>\n",
              "      <th>e_Kmag</th>\n",
              "      <th>Qfl</th>\n",
              "      <th>Rfl</th>\n",
              "      <th>X</th>\n",
              "      <th>MeasureJD</th>\n",
              "    </tr>\n",
              "  </thead>\n",
              "  <tbody>\n",
              "    <tr>\n",
              "      <th>0</th>\n",
              "      <td>0.771723</td>\n",
              "      <td>0.722380</td>\n",
              "      <td>66597767189992832</td>\n",
              "      <td>Pleiades</td>\n",
              "      <td>58.42074</td>\n",
              "      <td>24.41921</td>\n",
              "      <td>15.112</td>\n",
              "      <td>7.164</td>\n",
              "      <td>0.052</td>\n",
              "      <td>Simbad</td>\n",
              "      <td>58.42066</td>\n",
              "      <td>24.41940</td>\n",
              "      <td>58.420660</td>\n",
              "      <td>24.419397</td>\n",
              "      <td>0.000680</td>\n",
              "      <td>0.000411</td>\n",
              "      <td>77.10</td>\n",
              "      <td>66597767189992832</td>\n",
              "      <td>58.420748</td>\n",
              "      <td>0.0304</td>\n",
              "      <td>24.419203</td>\n",
              "      <td>0.0206</td>\n",
              "      <td>7.2480</td>\n",
              "      <td>0.0327</td>\n",
              "      <td>221.6400</td>\n",
              "      <td>47.140</td>\n",
              "      <td>17.975</td>\n",
              "      <td>0.042</td>\n",
              "      <td>-43.579</td>\n",
              "      <td>0.028</td>\n",
              "      <td>358</td>\n",
              "      <td>2.1176</td>\n",
              "      <td>414.67</td>\n",
              "      <td>0.072</td>\n",
              "      <td>1.148</td>\n",
              "      <td>31</td>\n",
              "      <td>NaN</td>\n",
              "      <td>NaN</td>\n",
              "      <td>16</td>\n",
              "      <td>1.080</td>\n",
              "      <td>...</td>\n",
              "      <td>16.374218</td>\n",
              "      <td>20397.1</td>\n",
              "      <td>13.973975</td>\n",
              "      <td>1.403</td>\n",
              "      <td>2.400243</td>\n",
              "      <td>NaN</td>\n",
              "      <td>NaN</td>\n",
              "      <td>0</td>\n",
              "      <td>NaN</td>\n",
              "      <td>NaN</td>\n",
              "      <td>137300584207013616</td>\n",
              "      <td>&lt;NA&gt;</td>\n",
              "      <td>&lt;NA&gt;</td>\n",
              "      <td>573031459</td>\n",
              "      <td>0.002880</td>\n",
              "      <td>0.005038</td>\n",
              "      <td>0.004287</td>\n",
              "      <td>15.093363</td>\n",
              "      <td>0.002880</td>\n",
              "      <td>17282.3</td>\n",
              "      <td>0.011</td>\n",
              "      <td>0.6695</td>\n",
              "      <td>0.4281</td>\n",
              "      <td>0.2234</td>\n",
              "      <td>03534095+2425098</td>\n",
              "      <td>58.420632</td>\n",
              "      <td>24.419390</td>\n",
              "      <td>0.06</td>\n",
              "      <td>0.06</td>\n",
              "      <td>90</td>\n",
              "      <td>12.499</td>\n",
              "      <td>11.831</td>\n",
              "      <td>11.583</td>\n",
              "      <td>0.021</td>\n",
              "      <td>0.028</td>\n",
              "      <td>0.024</td>\n",
              "      <td>AAA</td>\n",
              "      <td>222</td>\n",
              "      <td>0</td>\n",
              "      <td>2.451540e+06</td>\n",
              "    </tr>\n",
              "    <tr>\n",
              "      <th>1</th>\n",
              "      <td>0.775973</td>\n",
              "      <td>0.754494</td>\n",
              "      <td>66652467893487488</td>\n",
              "      <td>Pleiades</td>\n",
              "      <td>58.08615</td>\n",
              "      <td>24.56531</td>\n",
              "      <td>14.524</td>\n",
              "      <td>7.143</td>\n",
              "      <td>0.010</td>\n",
              "      <td>Simbad</td>\n",
              "      <td>58.08606</td>\n",
              "      <td>24.56550</td>\n",
              "      <td>58.086059</td>\n",
              "      <td>24.565502</td>\n",
              "      <td>0.000497</td>\n",
              "      <td>0.000261</td>\n",
              "      <td>91.59</td>\n",
              "      <td>66652467893487488</td>\n",
              "      <td>58.086149</td>\n",
              "      <td>0.0218</td>\n",
              "      <td>24.565304</td>\n",
              "      <td>0.0126</td>\n",
              "      <td>7.1802</td>\n",
              "      <td>0.0219</td>\n",
              "      <td>327.6251</td>\n",
              "      <td>48.300</td>\n",
              "      <td>18.501</td>\n",
              "      <td>0.031</td>\n",
              "      <td>-44.616</td>\n",
              "      <td>0.017</td>\n",
              "      <td>377</td>\n",
              "      <td>-0.4987</td>\n",
              "      <td>346.56</td>\n",
              "      <td>0.000</td>\n",
              "      <td>0.000</td>\n",
              "      <td>31</td>\n",
              "      <td>NaN</td>\n",
              "      <td>NaN</td>\n",
              "      <td>16</td>\n",
              "      <td>0.981</td>\n",
              "      <td>...</td>\n",
              "      <td>15.654358</td>\n",
              "      <td>33308.5</td>\n",
              "      <td>13.441506</td>\n",
              "      <td>1.379</td>\n",
              "      <td>2.212852</td>\n",
              "      <td>NaN</td>\n",
              "      <td>NaN</td>\n",
              "      <td>0</td>\n",
              "      <td>NaN</td>\n",
              "      <td>NaN</td>\n",
              "      <td>137470580861058960</td>\n",
              "      <td>&lt;NA&gt;</td>\n",
              "      <td>&lt;NA&gt;</td>\n",
              "      <td>573031059</td>\n",
              "      <td>0.002820</td>\n",
              "      <td>0.004734</td>\n",
              "      <td>0.004231</td>\n",
              "      <td>14.509749</td>\n",
              "      <td>0.002820</td>\n",
              "      <td>29583.3</td>\n",
              "      <td>0.014</td>\n",
              "      <td>0.4970</td>\n",
              "      <td>0.2609</td>\n",
              "      <td>-0.0383</td>\n",
              "      <td>03522064+2433557</td>\n",
              "      <td>58.086031</td>\n",
              "      <td>24.565491</td>\n",
              "      <td>0.08</td>\n",
              "      <td>0.07</td>\n",
              "      <td>90</td>\n",
              "      <td>12.083</td>\n",
              "      <td>11.367</td>\n",
              "      <td>11.157</td>\n",
              "      <td>0.027</td>\n",
              "      <td>0.030</td>\n",
              "      <td>0.021</td>\n",
              "      <td>AAA</td>\n",
              "      <td>222</td>\n",
              "      <td>0</td>\n",
              "      <td>2.451531e+06</td>\n",
              "    </tr>\n",
              "    <tr>\n",
              "      <th>2</th>\n",
              "      <td>0.906444</td>\n",
              "      <td>0.771282</td>\n",
              "      <td>66581549393480704</td>\n",
              "      <td>Pleiades</td>\n",
              "      <td>58.61864</td>\n",
              "      <td>24.32094</td>\n",
              "      <td>13.597</td>\n",
              "      <td>7.372</td>\n",
              "      <td>0.025</td>\n",
              "      <td>Simbad</td>\n",
              "      <td>58.61855</td>\n",
              "      <td>24.32114</td>\n",
              "      <td>58.618550</td>\n",
              "      <td>24.321138</td>\n",
              "      <td>0.000331</td>\n",
              "      <td>0.000184</td>\n",
              "      <td>88.78</td>\n",
              "      <td>66581549393480704</td>\n",
              "      <td>58.618642</td>\n",
              "      <td>0.0160</td>\n",
              "      <td>24.320930</td>\n",
              "      <td>0.0091</td>\n",
              "      <td>7.4196</td>\n",
              "      <td>0.0159</td>\n",
              "      <td>467.2317</td>\n",
              "      <td>50.403</td>\n",
              "      <td>18.822</td>\n",
              "      <td>0.020</td>\n",
              "      <td>-46.757</td>\n",
              "      <td>0.012</td>\n",
              "      <td>401</td>\n",
              "      <td>0.6102</td>\n",
              "      <td>389.45</td>\n",
              "      <td>0.000</td>\n",
              "      <td>0.000</td>\n",
              "      <td>31</td>\n",
              "      <td>NaN</td>\n",
              "      <td>NaN</td>\n",
              "      <td>18</td>\n",
              "      <td>1.021</td>\n",
              "      <td>...</td>\n",
              "      <td>14.450566</td>\n",
              "      <td>68132.0</td>\n",
              "      <td>12.664517</td>\n",
              "      <td>1.307</td>\n",
              "      <td>1.786049</td>\n",
              "      <td>NaN</td>\n",
              "      <td>NaN</td>\n",
              "      <td>0</td>\n",
              "      <td>NaN</td>\n",
              "      <td>NaN</td>\n",
              "      <td>137180586185935680</td>\n",
              "      <td>&lt;NA&gt;</td>\n",
              "      <td>&lt;NA&gt;</td>\n",
              "      <td>572031044</td>\n",
              "      <td>0.002854</td>\n",
              "      <td>0.003883</td>\n",
              "      <td>0.004184</td>\n",
              "      <td>13.582582</td>\n",
              "      <td>0.002854</td>\n",
              "      <td>69488.7</td>\n",
              "      <td>0.000</td>\n",
              "      <td>0.3310</td>\n",
              "      <td>0.1837</td>\n",
              "      <td>0.0265</td>\n",
              "      <td>03542844+2419161</td>\n",
              "      <td>58.618522</td>\n",
              "      <td>24.321157</td>\n",
              "      <td>0.09</td>\n",
              "      <td>0.07</td>\n",
              "      <td>90</td>\n",
              "      <td>11.449</td>\n",
              "      <td>10.784</td>\n",
              "      <td>10.620</td>\n",
              "      <td>0.019</td>\n",
              "      <td>0.027</td>\n",
              "      <td>0.020</td>\n",
              "      <td>AAA</td>\n",
              "      <td>222</td>\n",
              "      <td>0</td>\n",
              "      <td>2.451509e+06</td>\n",
              "    </tr>\n",
              "  </tbody>\n",
              "</table>\n",
              "<p>3 rows × 86 columns</p>\n",
              "</div>"
            ],
            "text/plain": [
              "   angDist_1  angDist_2             Source   Cluster  ...  Qfl  Rfl  X     MeasureJD\n",
              "0   0.771723   0.722380  66597767189992832  Pleiades  ...  AAA  222  0  2.451540e+06\n",
              "1   0.775973   0.754494  66652467893487488  Pleiades  ...  AAA  222  0  2.451531e+06\n",
              "2   0.906444   0.771282  66581549393480704  Pleiades  ...  AAA  222  0  2.451509e+06\n",
              "\n",
              "[3 rows x 86 columns]"
            ]
          },
          "metadata": {
            "tags": []
          },
          "execution_count": 26
        }
      ]
    },
    {
      "cell_type": "code",
      "metadata": {
        "colab": {
          "base_uri": "https://localhost:8080/",
          "height": 141
        },
        "id": "2I9NsY5CgD-k",
        "outputId": "33f652e9-ee3a-49fd-84dc-5606c32d0424"
      },
      "source": [
        "file_isochrone = glob(dir_drive+'Isochrones/*PARSEC-Pleiades-feh_and_Av*2*')\n",
        "iso2mass = ascii.read(file_isochrone[0], delimiter=r'\\s')\n",
        "iso2mass[0:3]"
      ],
      "execution_count": 27,
      "outputs": [
        {
          "output_type": "execute_result",
          "data": {
            "text/html": [
              "<i>Table length=3</i>\n",
              "<table id=\"table139858553407888\" class=\"table-striped table-bordered table-condensed\">\n",
              "<thead><tr><th>Zini</th><th>MH</th><th>logAge</th><th>Mini</th><th>int_IMF</th><th>Mass</th><th>logL</th><th>logTe</th><th>logg</th><th>label</th><th>McoreTP</th><th>C_O</th><th>period0</th><th>period1</th><th>period2</th><th>period3</th><th>period4</th><th>pmode</th><th>Mloss</th><th>tau1m</th><th>X</th><th>Y</th><th>Xc</th><th>Xn</th><th>Xo</th><th>Cexcess</th><th>Z</th><th>mbolmag</th><th>Jmag</th><th>Hmag</th><th>Ksmag</th></tr></thead>\n",
              "<thead><tr><th>float64</th><th>float64</th><th>float64</th><th>float64</th><th>float64</th><th>float64</th><th>float64</th><th>float64</th><th>float64</th><th>int64</th><th>float64</th><th>float64</th><th>float64</th><th>float64</th><th>float64</th><th>float64</th><th>float64</th><th>int64</th><th>float64</th><th>float64</th><th>float64</th><th>float64</th><th>float64</th><th>float64</th><th>float64</th><th>float64</th><th>float64</th><th>float64</th><th>float64</th><th>float64</th><th>float64</th></tr></thead>\n",
              "<tr><td>0.0157</td><td>0.03</td><td>8.0</td><td>0.0900000036</td><td>1.0816895962</td><td>0.09</td><td>-2.757</td><td>3.3997</td><td>4.7</td><td>0</td><td>0.0</td><td>0.545</td><td>0.0</td><td>0.0</td><td>0.0</td><td>0.0</td><td>0.0</td><td>-1</td><td>-3.31e-16</td><td>0.0</td><td>0.7077</td><td>0.2765</td><td>0.002836</td><td>0.0007651</td><td>0.006939</td><td>-1.0</td><td>0.01577</td><td>11.663</td><td>9.575</td><td>8.983</td><td>8.668</td></tr>\n",
              "<tr><td>0.0157</td><td>0.03</td><td>8.0</td><td>0.0934856683</td><td>1.1142642498</td><td>0.093</td><td>-2.729</td><td>3.4036</td><td>4.704</td><td>0</td><td>0.0</td><td>0.545</td><td>0.0</td><td>0.0</td><td>0.0</td><td>0.0</td><td>0.0</td><td>-1</td><td>-3.45e-16</td><td>0.0</td><td>0.7077</td><td>0.2765</td><td>0.002836</td><td>0.0007651</td><td>0.006939</td><td>-1.0</td><td>0.01577</td><td>11.593</td><td>9.505</td><td>8.913</td><td>8.599</td></tr>\n",
              "<tr><td>0.0157</td><td>0.03</td><td>8.0</td><td>0.1000000015</td><td>1.1711064577</td><td>0.1</td><td>-2.677</td><td>3.411</td><td>4.711</td><td>0</td><td>0.0</td><td>0.545</td><td>0.0</td><td>0.0</td><td>0.0</td><td>0.0</td><td>0.0</td><td>-1</td><td>-3.73e-16</td><td>0.0</td><td>0.7077</td><td>0.2765</td><td>0.002836</td><td>0.0007651</td><td>0.006939</td><td>-1.0</td><td>0.01577</td><td>11.462</td><td>9.373</td><td>8.781</td><td>8.468</td></tr>\n",
              "</table>"
            ],
            "text/plain": [
              "<Table length=3>\n",
              "  Zini     MH    logAge     Mini     ... mbolmag   Jmag    Hmag   Ksmag \n",
              "float64 float64 float64   float64    ... float64 float64 float64 float64\n",
              "------- ------- ------- ------------ ... ------- ------- ------- -------\n",
              " 0.0157    0.03     8.0 0.0900000036 ...  11.663   9.575   8.983   8.668\n",
              " 0.0157    0.03     8.0 0.0934856683 ...  11.593   9.505   8.913   8.599\n",
              " 0.0157    0.03     8.0 0.1000000015 ...  11.462   9.373   8.781   8.468"
            ]
          },
          "metadata": {
            "tags": []
          },
          "execution_count": 27
        }
      ]
    },
    {
      "cell_type": "code",
      "metadata": {
        "colab": {
          "base_uri": "https://localhost:8080/",
          "height": 487
        },
        "id": "CqMSsnI-fVeL",
        "outputId": "7f8f8354-cfa5-4e13-da0e-ac0d69d96c0b"
      },
      "source": [
        "iuse = np.where(pleiades_2mass['ruwe']<1.2)[0]\n",
        "fig, (ax1, ax2) = plt.subplots(1,2,figsize=(20,8))\n",
        "ax1.scatter(pleiades_2mass['Jmag'][iuse]-pleiades_2mass['Kmag'][iuse], pleiades_2mass['Jmag'][iuse]-5*np.log10(100/pleiades_2mass['plx'][iuse]),label='Pleiades')\n",
        "age = 120\n",
        "lages = np.unique(iso2mass['logAge'])\n",
        "iage = findel(np.log10(age*1e6),lages)\n",
        "iu = np.where((iso2mass['logAge'] == lages[iage]) & (iso2mass['label'] < 4))\n",
        "ax1.plot(iso2mass['Jmag'][iu[0]] - iso2mass['Ksmag'][iu[0]],iso2mass['Jmag'][iu[0]], c='red', label='Age = '+str(age))\n",
        "ax1.legend(fancybox=True, framealpha=1, shadow=False, borderpad=0.2, fontsize=\"xx-large\",handletextpad=0.4,loc='upper right')\n",
        "ax1.set_xlim(-0.2,1)\n",
        "ax1.set_ylim(6,-1)\n",
        "\n",
        "ax2.scatter(pleiades_2mass['Jmag'][iuse]-pleiades_2mass['Kmag'][iuse], pleiades_2mass['Jmag'][iuse]-5*np.log10(100/pleiades_2mass['plx'][iuse]),label='Pleiades')\n",
        "age = 200\n",
        "lages = np.unique(iso2mass['logAge'])\n",
        "iage = findel(np.log10(age*1e6),lages)\n",
        "iu = np.where((iso2mass['logAge'] == lages[iage]) & (iso2mass['label'] < 4))\n",
        "\n",
        "AJ = 0.29434\n",
        "AK = 0.11838\n",
        "dav = 0.0\n",
        "ax2.plot(iso2mass['Jmag'][iu[0]] - iso2mass['Ksmag'][iu[0]] + (AJ-AK)*dav,iso2mass['Jmag'][iu[0]]+ AJ*dav, c='red', label='Age = '+str(age))\n",
        "ax2.legend(fancybox=True, framealpha=1, shadow=False, borderpad=0.2, fontsize=\"xx-large\",handletextpad=0.4,loc='upper right')\n",
        "ax2.set_xlim(-0.2,1)\n",
        "ax2.set_ylim(6,-1)\n",
        "\n",
        "plt.show()"
      ],
      "execution_count": 28,
      "outputs": [
        {
          "output_type": "display_data",
          "data": {
            "image/png": "[encoded data removed]",
            "text/plain": [
              "<Figure size 1440x576 with 2 Axes>"
            ]
          },
          "metadata": {
            "tags": [],
            "needs_background": "light"
          }
        }
      ]
    },
    {
      "cell_type": "markdown",
      "metadata": {
        "id": "7OrI-ChehQRK"
      },
      "source": [
        "There seems to be an offset in the main sequence, where the model is too dim (this can be fixed by increasing the metallicity or the reddening/extinction, but that seems to indicate a problem with the model photometry, not our understanding of the cluster's properties).\n",
        "\n",
        "The age issue doesn't seem to be as significant here. The main issue is that large (percent) changes in age yield very subtle changes in the isochrone, so between 100-200 Myr look very similar. \n",
        "\n",
        "In my opinion, however one fits the Theia 456 CMD, they should apply the same data (including how reddening corrections are determined) and procedure to the Pleiades to see what the difference in resulting isochronal age parameters are for the two groups."
      ]
    },
    {
      "cell_type": "markdown",
      "metadata": {
        "id": "Ae1Ji2Mvnfbt"
      },
      "source": [
        "#**Rotation**"
      ]
    },
    {
      "cell_type": "markdown",
      "metadata": {
        "id": "x8gPNs8xnhJ6"
      },
      "source": [
        ""
      ]
    },
    {
      "cell_type": "markdown",
      "metadata": {
        "id": "UGN60T6QnhLn"
      },
      "source": [
        "**get Prot for Pleiades**"
      ]
    },
    {
      "cell_type": "code",
      "metadata": {
        "colab": {
          "base_uri": "https://localhost:8080/",
          "height": 179
        },
        "id": "1-RvP2tznisZ",
        "outputId": "e752b614-853d-432e-cac8-cdda417320aa"
      },
      "source": [
        "# Cross-match with Rebull+2016\n",
        "pleiades_rotation = XMatch.query(cat1=Pleiades_dr2,\n",
        "                  cat2='vizier:J/AJ/152/114/table2',\n",
        "                  max_distance=1 * units.arcsec, \n",
        "                  colRA1='ra', colDec1='dec')\n",
        "pleiades_rotation = pleiades_rotation.to_pandas()\n",
        "pleiades_rotation[0:3]  "
      ],
      "execution_count": 29,
      "outputs": [
        {
          "output_type": "execute_result",
          "data": {
            "text/html": [
              "<div>\n",
              "<style scoped>\n",
              "    .dataframe tbody tr th:only-of-type {\n",
              "        vertical-align: middle;\n",
              "    }\n",
              "\n",
              "    .dataframe tbody tr th {\n",
              "        vertical-align: top;\n",
              "    }\n",
              "\n",
              "    .dataframe thead th {\n",
              "        text-align: right;\n",
              "    }\n",
              "</style>\n",
              "<table border=\"1\" class=\"dataframe\">\n",
              "  <thead>\n",
              "    <tr style=\"text-align: right;\">\n",
              "      <th></th>\n",
              "      <th>angDist_1</th>\n",
              "      <th>angDist_2</th>\n",
              "      <th>Source</th>\n",
              "      <th>Cluster</th>\n",
              "      <th>RAdeg</th>\n",
              "      <th>DEdeg</th>\n",
              "      <th>Gmag</th>\n",
              "      <th>plx</th>\n",
              "      <th>e_plx</th>\n",
              "      <th>Simbad_1</th>\n",
              "      <th>_RA</th>\n",
              "      <th>_DE</th>\n",
              "      <th>ra_epoch2000</th>\n",
              "      <th>dec_epoch2000</th>\n",
              "      <th>errHalfMaj</th>\n",
              "      <th>errHalfMin</th>\n",
              "      <th>errPosAng</th>\n",
              "      <th>source_id</th>\n",
              "      <th>ra</th>\n",
              "      <th>ra_error</th>\n",
              "      <th>dec</th>\n",
              "      <th>dec_error</th>\n",
              "      <th>parallax</th>\n",
              "      <th>parallax_error</th>\n",
              "      <th>pmra</th>\n",
              "      <th>pmra_error</th>\n",
              "      <th>pmdec</th>\n",
              "      <th>pmdec_error</th>\n",
              "      <th>duplicated_source</th>\n",
              "      <th>phot_g_mean_flux</th>\n",
              "      <th>phot_g_mean_flux_error</th>\n",
              "      <th>phot_g_mean_mag</th>\n",
              "      <th>phot_bp_mean_flux</th>\n",
              "      <th>phot_bp_mean_flux_error</th>\n",
              "      <th>phot_bp_mean_mag</th>\n",
              "      <th>phot_rp_mean_flux</th>\n",
              "      <th>phot_rp_mean_flux_error</th>\n",
              "      <th>phot_rp_mean_mag</th>\n",
              "      <th>bp_rp</th>\n",
              "      <th>radial_velocity</th>\n",
              "      <th>radial_velocity_error</th>\n",
              "      <th>rv_nb_transits</th>\n",
              "      <th>teff_val</th>\n",
              "      <th>a_g_val</th>\n",
              "      <th>e_bp_min_rp_val</th>\n",
              "      <th>radius_val</th>\n",
              "      <th>lum_val</th>\n",
              "      <th>_RAJ2000</th>\n",
              "      <th>_DEJ2000</th>\n",
              "      <th>EPIC</th>\n",
              "      <th>RAJ2000</th>\n",
              "      <th>DEJ2000</th>\n",
              "      <th>Vmag</th>\n",
              "      <th>Ksmag</th>\n",
              "      <th>(V-K)0</th>\n",
              "      <th>Prot</th>\n",
              "      <th>Mm</th>\n",
              "      <th>P</th>\n",
              "      <th>dd</th>\n",
              "      <th>ddm</th>\n",
              "      <th>shch</th>\n",
              "      <th>beat</th>\n",
              "      <th>cpeak</th>\n",
              "      <th>resc</th>\n",
              "      <th>resd</th>\n",
              "      <th>dScu</th>\n",
              "      <th>cloud</th>\n",
              "      <th>PapI</th>\n",
              "      <th>PapIII</th>\n",
              "      <th>Simbad_2</th>\n",
              "    </tr>\n",
              "  </thead>\n",
              "  <tbody>\n",
              "    <tr>\n",
              "      <th>0</th>\n",
              "      <td>0.796709</td>\n",
              "      <td>0.713791</td>\n",
              "      <td>66942910762588928</td>\n",
              "      <td>Pleiades</td>\n",
              "      <td>57.06457</td>\n",
              "      <td>25.24332</td>\n",
              "      <td>17.076</td>\n",
              "      <td>6.817</td>\n",
              "      <td>0.047</td>\n",
              "      <td>Simbad</td>\n",
              "      <td>57.06448</td>\n",
              "      <td>25.24350</td>\n",
              "      <td>57.064482</td>\n",
              "      <td>25.243502</td>\n",
              "      <td>0.004</td>\n",
              "      <td>0.002</td>\n",
              "      <td>90</td>\n",
              "      <td>66942910762588928</td>\n",
              "      <td>57.064574</td>\n",
              "      <td>0.1289</td>\n",
              "      <td>25.243319</td>\n",
              "      <td>0.0661</td>\n",
              "      <td>6.7753</td>\n",
              "      <td>0.1429</td>\n",
              "      <td>19.192</td>\n",
              "      <td>0.248</td>\n",
              "      <td>-42.444</td>\n",
              "      <td>0.149</td>\n",
              "      <td>0</td>\n",
              "      <td>2784.52</td>\n",
              "      <td>3.44557</td>\n",
              "      <td>17.076488</td>\n",
              "      <td>422.736</td>\n",
              "      <td>12.929</td>\n",
              "      <td>18.786213</td>\n",
              "      <td>3888.37</td>\n",
              "      <td>20.2542</td>\n",
              "      <td>15.787501</td>\n",
              "      <td>2.998712</td>\n",
              "      <td>NaN</td>\n",
              "      <td>NaN</td>\n",
              "      <td>0</td>\n",
              "      <td>NaN</td>\n",
              "      <td>NaN</td>\n",
              "      <td>NaN</td>\n",
              "      <td>NaN</td>\n",
              "      <td>NaN</td>\n",
              "      <td>57.06450</td>\n",
              "      <td>25.24353</td>\n",
              "      <td>211139647</td>\n",
              "      <td>57.06450</td>\n",
              "      <td>25.24353</td>\n",
              "      <td>NaN</td>\n",
              "      <td>12.99</td>\n",
              "      <td>5.50</td>\n",
              "      <td>0.4809</td>\n",
              "      <td>best</td>\n",
              "      <td>single</td>\n",
              "      <td>no</td>\n",
              "      <td>no</td>\n",
              "      <td>no</td>\n",
              "      <td>no</td>\n",
              "      <td>no</td>\n",
              "      <td>no</td>\n",
              "      <td>no</td>\n",
              "      <td>no</td>\n",
              "      <td>no</td>\n",
              "      <td>PapI</td>\n",
              "      <td>PapIII</td>\n",
              "      <td>Simbad</td>\n",
              "    </tr>\n",
              "    <tr>\n",
              "      <th>1</th>\n",
              "      <td>0.818845</td>\n",
              "      <td>0.755241</td>\n",
              "      <td>66800592725150848</td>\n",
              "      <td>Pleiades</td>\n",
              "      <td>56.54908</td>\n",
              "      <td>24.62213</td>\n",
              "      <td>11.405</td>\n",
              "      <td>7.461</td>\n",
              "      <td>0.072</td>\n",
              "      <td>Simbad</td>\n",
              "      <td>56.54898</td>\n",
              "      <td>24.62232</td>\n",
              "      <td>56.548976</td>\n",
              "      <td>24.622317</td>\n",
              "      <td>0.002</td>\n",
              "      <td>0.001</td>\n",
              "      <td>90</td>\n",
              "      <td>66800592725150848</td>\n",
              "      <td>56.549076</td>\n",
              "      <td>0.0513</td>\n",
              "      <td>24.622125</td>\n",
              "      <td>0.0311</td>\n",
              "      <td>7.5280</td>\n",
              "      <td>0.0562</td>\n",
              "      <td>21.080</td>\n",
              "      <td>0.124</td>\n",
              "      <td>-44.610</td>\n",
              "      <td>0.075</td>\n",
              "      <td>1</td>\n",
              "      <td>517014.00</td>\n",
              "      <td>1406.34000</td>\n",
              "      <td>11.404611</td>\n",
              "      <td>247205.000</td>\n",
              "      <td>2244.300</td>\n",
              "      <td>11.868744</td>\n",
              "      <td>382431.00</td>\n",
              "      <td>2479.0500</td>\n",
              "      <td>10.805536</td>\n",
              "      <td>1.063208</td>\n",
              "      <td>7.65</td>\n",
              "      <td>0.79</td>\n",
              "      <td>8</td>\n",
              "      <td>5252.38</td>\n",
              "      <td>0.0103</td>\n",
              "      <td>0.0060</td>\n",
              "      <td>0.74</td>\n",
              "      <td>0.380</td>\n",
              "      <td>56.54893</td>\n",
              "      <td>24.62231</td>\n",
              "      <td>211103863</td>\n",
              "      <td>56.54893</td>\n",
              "      <td>24.62231</td>\n",
              "      <td>11.71</td>\n",
              "      <td>9.54</td>\n",
              "      <td>2.06</td>\n",
              "      <td>5.9772</td>\n",
              "      <td>best</td>\n",
              "      <td>single</td>\n",
              "      <td>no</td>\n",
              "      <td>no</td>\n",
              "      <td>no</td>\n",
              "      <td>no</td>\n",
              "      <td>no</td>\n",
              "      <td>no</td>\n",
              "      <td>no</td>\n",
              "      <td>no</td>\n",
              "      <td>no</td>\n",
              "      <td>PapI</td>\n",
              "      <td>PapIII</td>\n",
              "      <td>Simbad</td>\n",
              "    </tr>\n",
              "    <tr>\n",
              "      <th>2</th>\n",
              "      <td>0.974334</td>\n",
              "      <td>0.746165</td>\n",
              "      <td>66939852745876736</td>\n",
              "      <td>Pleiades</td>\n",
              "      <td>57.07039</td>\n",
              "      <td>25.21493</td>\n",
              "      <td>9.103</td>\n",
              "      <td>7.285</td>\n",
              "      <td>0.065</td>\n",
              "      <td>Simbad</td>\n",
              "      <td>57.07030</td>\n",
              "      <td>25.21512</td>\n",
              "      <td>57.070305</td>\n",
              "      <td>25.215122</td>\n",
              "      <td>0.002</td>\n",
              "      <td>0.001</td>\n",
              "      <td>90</td>\n",
              "      <td>66939852745876736</td>\n",
              "      <td>57.070389</td>\n",
              "      <td>0.0671</td>\n",
              "      <td>25.214926</td>\n",
              "      <td>0.0372</td>\n",
              "      <td>7.2299</td>\n",
              "      <td>0.0763</td>\n",
              "      <td>17.803</td>\n",
              "      <td>0.139</td>\n",
              "      <td>-45.609</td>\n",
              "      <td>0.080</td>\n",
              "      <td>1</td>\n",
              "      <td>4306080.00</td>\n",
              "      <td>2539.97000</td>\n",
              "      <td>9.103162</td>\n",
              "      <td>2593160.000</td>\n",
              "      <td>12826.300</td>\n",
              "      <td>9.316813</td>\n",
              "      <td>2765670.00</td>\n",
              "      <td>20748.9000</td>\n",
              "      <td>8.657421</td>\n",
              "      <td>0.659391</td>\n",
              "      <td>7.02</td>\n",
              "      <td>0.74</td>\n",
              "      <td>4</td>\n",
              "      <td>6613.98</td>\n",
              "      <td>0.7073</td>\n",
              "      <td>0.3657</td>\n",
              "      <td>1.36</td>\n",
              "      <td>3.186</td>\n",
              "      <td>57.07026</td>\n",
              "      <td>25.21517</td>\n",
              "      <td>211138217</td>\n",
              "      <td>57.07026</td>\n",
              "      <td>25.21517</td>\n",
              "      <td>9.13</td>\n",
              "      <td>7.86</td>\n",
              "      <td>1.16</td>\n",
              "      <td>6.7219</td>\n",
              "      <td>best</td>\n",
              "      <td>multi</td>\n",
              "      <td>no</td>\n",
              "      <td>no</td>\n",
              "      <td>no</td>\n",
              "      <td>yes</td>\n",
              "      <td>yes</td>\n",
              "      <td>yes</td>\n",
              "      <td>yes</td>\n",
              "      <td>no</td>\n",
              "      <td>no</td>\n",
              "      <td>PapI</td>\n",
              "      <td>PapIII</td>\n",
              "      <td>Simbad</td>\n",
              "    </tr>\n",
              "  </tbody>\n",
              "</table>\n",
              "</div>"
            ],
            "text/plain": [
              "   angDist_1  angDist_2             Source  ...  PapI  PapIII  Simbad_2\n",
              "0   0.796709   0.713791  66942910762588928  ...  PapI  PapIII    Simbad\n",
              "1   0.818845   0.755241  66800592725150848  ...  PapI  PapIII    Simbad\n",
              "2   0.974334   0.746165  66939852745876736  ...  PapI  PapIII    Simbad\n",
              "\n",
              "[3 rows x 70 columns]"
            ]
          },
          "metadata": {
            "tags": []
          },
          "execution_count": 29
        }
      ]
    },
    {
      "cell_type": "code",
      "metadata": {
        "id": "Dsr_L2eanrtT"
      },
      "source": [
        "Pleiades_LAMOST['Prot'] = 0.0\n",
        "\n",
        "for i in range(len(pleiades_rotation)):\n",
        "  imatch = np.where(pleiades_rotation['Source'][i] == Pleiades_dr2['Source'])[0]\n",
        "  if len(imatch) > 0:\n",
        "    Pleiades_LAMOST['Prot'][imatch[0]] = pleiades_rotation['Prot'][i]"
      ],
      "execution_count": 30,
      "outputs": []
    },
    {
      "cell_type": "markdown",
      "metadata": {
        "id": "3WAijs8Towr5"
      },
      "source": [
        "**get Prot for Theia 456**"
      ]
    },
    {
      "cell_type": "code",
      "metadata": {
        "id": "E358a5cwozEh"
      },
      "source": [
        "# load Google Sheets\n",
        "def load_table(sheet_name, table_name):\n",
        "  from google.colab import auth\n",
        "  auth.authenticate_user()\n",
        "  import gspread\n",
        "  from oauth2client.client import GoogleCredentials\n",
        "  gc = gspread.authorize(GoogleCredentials.get_application_default())\n",
        "  # load the table\n",
        "  worksheet = gc.open(sheet_name)\n",
        "  table = worksheet.worksheet(table_name)\n",
        "  table_data_val = table.get_all_values()\n",
        "  data = pd.DataFrame.from_records(table_data_val[1:],columns=table_data_val[0])\n",
        "\n",
        "  return table, data"
      ],
      "execution_count": 31,
      "outputs": []
    },
    {
      "cell_type": "code",
      "metadata": {
        "colab": {
          "base_uri": "https://localhost:8080/",
          "height": 419
        },
        "id": "5WxFgjIzo1DS",
        "outputId": "0ce2993d-e04f-4886-a87f-f6bc75183955"
      },
      "source": [
        "Theia456_Sheet, Theia456_Prot_Data = load_table('data_Theia_456', 'Prot')\n",
        "\n",
        "Theia456_Prot_DR2Name = np.array(Theia456_Prot_Data['DR2Name'],dtype=int)\n",
        "Theia456_Prot_Values = np.array(Theia456_Prot_Data['Prot_Final'],dtype=float)\n",
        "Theia456_Prot_Source = np.array(Theia456_Prot_Data['Prot_Source'],dtype=str)\n",
        "Theia456_Prot_Data"
      ],
      "execution_count": 32,
      "outputs": [
        {
          "output_type": "execute_result",
          "data": {
            "text/html": [
              "<div>\n",
              "<style scoped>\n",
              "    .dataframe tbody tr th:only-of-type {\n",
              "        vertical-align: middle;\n",
              "    }\n",
              "\n",
              "    .dataframe tbody tr th {\n",
              "        vertical-align: top;\n",
              "    }\n",
              "\n",
              "    .dataframe thead th {\n",
              "        text-align: right;\n",
              "    }\n",
              "</style>\n",
              "<table border=\"1\" class=\"dataframe\">\n",
              "  <thead>\n",
              "    <tr style=\"text-align: right;\">\n",
              "      <th></th>\n",
              "      <th>DR2Name</th>\n",
              "      <th>EDR3Name</th>\n",
              "      <th>Gmag</th>\n",
              "      <th>BP_RP</th>\n",
              "      <th>Prot_TESS</th>\n",
              "      <th>Prot_ZTF</th>\n",
              "      <th>Prot_Final</th>\n",
              "      <th>Prot_Source</th>\n",
              "      <th>ZTF_Notes</th>\n",
              "    </tr>\n",
              "  </thead>\n",
              "  <tbody>\n",
              "    <tr>\n",
              "      <th>0</th>\n",
              "      <td>191263006888303360</td>\n",
              "      <td>Gaia EDR3 191263006888303360</td>\n",
              "      <td>16.638172</td>\n",
              "      <td>1.937492</td>\n",
              "      <td>-1</td>\n",
              "      <td>-1</td>\n",
              "      <td>0</td>\n",
              "      <td>None</td>\n",
              "      <td></td>\n",
              "    </tr>\n",
              "    <tr>\n",
              "      <th>1</th>\n",
              "      <td>208504792317742720</td>\n",
              "      <td>Gaia EDR3 208504792317742720</td>\n",
              "      <td>15.032085</td>\n",
              "      <td>1.272452</td>\n",
              "      <td>8.132166083</td>\n",
              "      <td>8.5259554</td>\n",
              "      <td>8.329060742</td>\n",
              "      <td>TESS_ZTF</td>\n",
              "      <td>bspline</td>\n",
              "    </tr>\n",
              "    <tr>\n",
              "      <th>2</th>\n",
              "      <td>257811119959501952</td>\n",
              "      <td>Gaia EDR3 257811119959501952</td>\n",
              "      <td>14.686083</td>\n",
              "      <td>1.353808</td>\n",
              "      <td>-14.05532766</td>\n",
              "      <td>-1</td>\n",
              "      <td>0</td>\n",
              "      <td>None</td>\n",
              "      <td></td>\n",
              "    </tr>\n",
              "    <tr>\n",
              "      <th>3</th>\n",
              "      <td>256545856951806720</td>\n",
              "      <td>Gaia EDR3 256545856951806720</td>\n",
              "      <td>16.18437</td>\n",
              "      <td>1.696264</td>\n",
              "      <td>-1</td>\n",
              "      <td>9.5738754</td>\n",
              "      <td>9.5738754</td>\n",
              "      <td>ZTF</td>\n",
              "      <td></td>\n",
              "    </tr>\n",
              "    <tr>\n",
              "      <th>4</th>\n",
              "      <td>256519674831091456</td>\n",
              "      <td>Gaia EDR3 256519674831091456</td>\n",
              "      <td>14.851209</td>\n",
              "      <td>1.278548</td>\n",
              "      <td>-99</td>\n",
              "      <td>7.74757</td>\n",
              "      <td>7.74757</td>\n",
              "      <td>ZTF</td>\n",
              "      <td></td>\n",
              "    </tr>\n",
              "    <tr>\n",
              "      <th>...</th>\n",
              "      <td>...</td>\n",
              "      <td>...</td>\n",
              "      <td>...</td>\n",
              "      <td>...</td>\n",
              "      <td>...</td>\n",
              "      <td>...</td>\n",
              "      <td>...</td>\n",
              "      <td>...</td>\n",
              "      <td>...</td>\n",
              "    </tr>\n",
              "    <tr>\n",
              "      <th>463</th>\n",
              "      <td>259058103584493952</td>\n",
              "      <td>Gaia EDR3 259058103584493952</td>\n",
              "      <td>14.114081</td>\n",
              "      <td>1.159239</td>\n",
              "      <td>-5.710871023</td>\n",
              "      <td>2.8390482</td>\n",
              "      <td>0</td>\n",
              "      <td>None</td>\n",
              "      <td>so which is it?</td>\n",
              "    </tr>\n",
              "    <tr>\n",
              "      <th>464</th>\n",
              "      <td>258642625627613184</td>\n",
              "      <td>Gaia EDR3 258642625627613184</td>\n",
              "      <td>16.910194</td>\n",
              "      <td>2.11522</td>\n",
              "      <td>-1</td>\n",
              "      <td>0</td>\n",
              "      <td>0</td>\n",
              "      <td>None</td>\n",
              "      <td></td>\n",
              "    </tr>\n",
              "    <tr>\n",
              "      <th>465</th>\n",
              "      <td>259531305898922624</td>\n",
              "      <td>Gaia EDR3 259531305898922624</td>\n",
              "      <td>14.181187</td>\n",
              "      <td>1.130586</td>\n",
              "      <td>-1</td>\n",
              "      <td>2.7211137</td>\n",
              "      <td>2.7211137</td>\n",
              "      <td>ZTF</td>\n",
              "      <td></td>\n",
              "    </tr>\n",
              "    <tr>\n",
              "      <th>466</th>\n",
              "      <td>259469252215220608</td>\n",
              "      <td>Gaia EDR3 259469252215220608</td>\n",
              "      <td>15.124681</td>\n",
              "      <td>1.388141</td>\n",
              "      <td>99</td>\n",
              "      <td>-1</td>\n",
              "      <td>0</td>\n",
              "      <td>None</td>\n",
              "      <td></td>\n",
              "    </tr>\n",
              "    <tr>\n",
              "      <th>467</th>\n",
              "      <td>259451625669632896</td>\n",
              "      <td>Gaia EDR3 259451625669632896</td>\n",
              "      <td>11.046824</td>\n",
              "      <td>0.29637</td>\n",
              "      <td>-1</td>\n",
              "      <td>0</td>\n",
              "      <td>0</td>\n",
              "      <td>None</td>\n",
              "      <td></td>\n",
              "    </tr>\n",
              "  </tbody>\n",
              "</table>\n",
              "<p>468 rows × 9 columns</p>\n",
              "</div>"
            ],
            "text/plain": [
              "                DR2Name  ...        ZTF_Notes\n",
              "0    191263006888303360  ...                 \n",
              "1    208504792317742720  ...          bspline\n",
              "2    257811119959501952  ...                 \n",
              "3    256545856951806720  ...                 \n",
              "4    256519674831091456  ...                 \n",
              "..                  ...  ...              ...\n",
              "463  259058103584493952  ...  so which is it?\n",
              "464  258642625627613184  ...                 \n",
              "465  259531305898922624  ...                 \n",
              "466  259469252215220608  ...                 \n",
              "467  259451625669632896  ...                 \n",
              "\n",
              "[468 rows x 9 columns]"
            ]
          },
          "metadata": {
            "tags": []
          },
          "execution_count": 32
        }
      ]
    },
    {
      "cell_type": "code",
      "metadata": {
        "id": "TLpP-TGdpTxn"
      },
      "source": [
        "Theia456_LAMOST['Prot'] = 0.0\n",
        "for i in range(len(Theia456_LAMOST)):\n",
        "  imatch = np.where(theia_data['SOURCE_ID'][i456[i]] == Theia456_Prot_DR2Name)[0]\n",
        "  if len(imatch) > 0:\n",
        "    Theia456_LAMOST['Prot'][i] = Theia456_Prot_Values[imatch[0]]"
      ],
      "execution_count": 33,
      "outputs": []
    },
    {
      "cell_type": "markdown",
      "metadata": {
        "id": "XPa9x4YcqAkW"
      },
      "source": [
        "**Prot comparison**\n",
        "\n",
        "As you can see, the rotation period distribution for Theia 456 is indistinguishable from the distribution for the Pleiades *when plotting against LAMOST temperatures.* These temperatures avoid the interstellar reddening issue (and its strong variation across Theia 456). These data suggest that the Pleiades and Theia 456 share a similar age."
      ]
    },
    {
      "cell_type": "code",
      "metadata": {
        "colab": {
          "base_uri": "https://localhost:8080/",
          "height": 517
        },
        "id": "AUw6CeZKqBii",
        "outputId": "cf76d79b-5e49-433f-9634-a5a9fdee0152"
      },
      "source": [
        "fig, ax = plt.subplots(figsize=(12,8))\n",
        "iuse = np.where(Pleiades_LAMOST['Prot']>0)[0]\n",
        "ax.scatter(Pleiades_LAMOST['Teff'][iuse], Pleiades_LAMOST['Prot'][iuse],label='Pleiades',s=60,edgecolors='black',marker='s',linewidth=0.7)\n",
        "iuse = np.where(Theia456_LAMOST['Prot']>0)[0]\n",
        "ax.scatter(Theia456_LAMOST['Teff'][iuse], Theia456_LAMOST['Prot'][iuse],label='Theia 456',s=90,edgecolors='black',linewidth=0.7)\n",
        "ax.legend(fancybox=True, framealpha=1, shadow=False, borderpad=0.2, fontsize=\"xx-large\",handletextpad=0.1,loc='upper left')\n",
        "ax.set_xlim(7000,4000)\n",
        "ax.set_ylim(0,10)\n",
        "# Axes\n",
        "ax.set_xlabel('Effective Temperature (K)',fontsize=20)\n",
        "ax.set_ylabel('Rotation Period (days',fontsize=20)\n",
        "ax.tick_params(axis='both', which='major', labelsize=15)\n",
        "ax.spines['top'].set_linewidth(aw)\n",
        "ax.spines['left'].set_linewidth(aw)\n",
        "ax.spines['right'].set_linewidth(aw)\n",
        "ax.spines['bottom'].set_linewidth(aw)\n",
        "# Finish\n",
        "plt.show()"
      ],
      "execution_count": 34,
      "outputs": [
        {
          "output_type": "display_data",
          "data": {
            "image/png": "[encoded data removed]",
            "text/plain": [
              "<Figure size 864x576 with 1 Axes>"
            ]
          },
          "metadata": {
            "tags": [],
            "needs_background": "light"
          }
        }
      ]
    }
  ]
}